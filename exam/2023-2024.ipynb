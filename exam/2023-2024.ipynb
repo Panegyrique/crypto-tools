{
 "cells": [
  {
   "cell_type": "markdown",
   "metadata": {},
   "source": [
    "# **Examen 2023-2024**"
   ]
  },
  {
   "cell_type": "code",
   "execution_count": 1,
   "metadata": {},
   "outputs": [],
   "source": [
    "import sys\n",
    "import os\n",
    "from pathlib import Path\n",
    "current_dir = Path(os.getcwd())\n",
    "parent_dir = current_dir.parent\n",
    "sys.path.append(str(parent_dir))\n",
    "\n",
    "from algorithm import AES, CESAR, DIFFIE_HELLMANN, ECC, ELGAMAL, RSA, VIGENERE\n",
    "from compute import BASIC_COMPUTE"
   ]
  },
  {
   "cell_type": "markdown",
   "metadata": {},
   "source": [
    "## **Questions de cours**\n",
    "\n",
    "1. *Décrire le principe du chiffrement par flot.*  \n",
    "   Le chiffrement par flot consiste à générer un flux de bits pseudo-aléatoire (le flux de clés) qui est ensuite combiné, généralement via une opération XOR, avec le texte clair bit par bit ou bloc par bloc. Ce flux de clés est généré par un générateur de clés pseudo-aléatoire initialisé avec une clé secrète. Le chiffrement par flot est rapide et bien adapté pour les flux de données en continu, comme dans les communications en temps réel.\n",
    "\n",
    "2. *Pour la primitive de chiffrement AES, donner la taille du clair, les tailles possibles de la clé, et le nombre de tours.*  \n",
    "   - **Taille du texte clair** : 128 bits  \n",
    "   - **Tailles possibles de la clé** : 128 bits, 192 bits, 256 bits  \n",
    "   - **Nombre de tours** :  \n",
    "     - 10 tours pour une clé de 128 bits  \n",
    "     - 12 tours pour une clé de 192 bits  \n",
    "     - 14 tours pour une clé de 256 bits  \n",
    "\n",
    "3. *Sur quel problème mathématique se fonde la sécurité du chiffrement RSA ?*  \n",
    "   La sécurité du chiffrement RSA se fonde sur la difficulté de la factorisation des grands nombres entiers, qui sont produits en multipliant deux nombres premiers de grande taille. Briser la sécurité de RSA nécessiterait de résoudre ce problème de factorisation de manière efficace, ce qui est considéré comme impraticable avec les ressources de calcul actuelles.\n",
    "\n",
    "4. *Quels sont les trois services de sécurité offerts par un algorithme de signature ? Un tel algorithme est-il symétrique ou asymétrique ? Expliquer.*  \n",
    "   - **Authenticité** : Garantit que le message provient bien de l’expéditeur légitime.  \n",
    "   - **Intégrité** : Assure que le message n’a pas été modifié depuis sa signature.  \n",
    "   - **Non-répudiation** : Empêche l’émetteur de nier ultérieurement avoir signé le message.  \n",
    "   Un algorithme de signature est **asymétrique**. Il utilise une paire de clés : une clé privée pour signer le message et une clé publique pour vérifier la signature. Ce modèle est nécessaire pour garantir les propriétés de non-répudiation et d’authenticité.\n",
    "\n",
    "5. *Expliquer le principe général d’un algorithme de MAC. Quel service de sécurité assure-t-il ?*  \n",
    "   Un algorithme de MAC (Message Authentication Code) prend un message et une clé secrète pour produire un code d’authentification. Ce code est utilisé pour vérifier à la fois l’intégrité et l’authenticité du message. Si le message ou le MAC est modifié, la vérification échoue, garantissant que le message provient de l’émetteur légitime et qu'il n’a pas été altéré.\n",
    "\n",
    "6. *Décrire le principe du jeu IND-CPA pour l’évaluation de la sécurité d’un algorithme de chiffrement. En particulier, donner la définition de l’avantage et expliquer comment il permet de statuer sur la sécurité de l’algorithme.*  \n",
    "   Le jeu IND-CPA (Indistinguishability under Chosen Plaintext Attack) évalue la sécurité en permettant à un attaquant de choisir deux textes clairs, puis un oracle chiffre l'un des deux textes choisis de manière aléatoire. L’attaquant doit deviner quel texte a été chiffré. L'**avantage** est la différence entre la probabilité de succès de l'attaquant et 0.5 (la probabilité de deviner aléatoirement). Si l’avantage est négligeable, l'algorithme est considéré sécurisé contre les attaques par texte clair choisi.\n",
    "\n",
    "7. *À quelle attaque s’expose-t-on si l’on utilise des clés publiques non certifiées dans un algorithme de chiffrement à clé publique ? Expliquer brièvement le scénario sans entrer dans les détails.*  \n",
    "   On s’expose à une **attaque de type \"man-in-the-middle\"**. Dans ce scénario, un attaquant intercepte les clés publiques échangées et les remplace par ses propres clés. Ainsi, il peut déchiffrer, modifier, puis ré-encrypter les messages, interférant avec la communication sans que les parties ne s’en aperçoivent.\n",
    "\n",
    "8. *En quoi le mode d’opérations CTR fait-il penser au chiffrement par flot ?*  \n",
    "   Le mode CTR (Counter Mode) fonctionne en générant un flux de clés pseudo-aléatoire basé sur un compteur qui s'incrémente. Ce flux est ensuite utilisé pour chiffrer les blocs de texte clair via une opération XOR, tout comme un chiffrement par flot traite les données de manière continue. Cela permet un traitement parallèle et un chiffrement efficace, similaire au chiffrement par flot.\n",
    "\n",
    "9. *Quelle est la période maximale d’un LFSR en fonction de sa taille ?*  \n",
    "   La période maximale d’un registre à décalage à rétroaction linéaire (LFSR) de longueur \\( n \\) est \\( 2^n - 1 \\). Cette période maximale est atteinte lorsque l'LFSR est configuré avec un polynôme de rétroaction primitif.\n",
    "\n",
    "10. *Quelles sont les quatre propriétés fondamentales d’une fonction de hachage cryptographique ? Donner les complexités génériques de résolution de chacun des problèmes caractérisant le “sens inverse difficile”.*  \n",
    "    - **Pré-image résistance** : Difficile de trouver un texte clair donné un hash. Complexité générique : \\( 2^n \\) pour une fonction de hachage de \\( n \\) bits.\n",
    "    - **Résistance à la seconde pré-image** : Difficile de trouver un autre texte clair qui donne le même hash qu'un texte clair donné. Complexité générique : \\( 2^n \\) pour une fonction de hachage de \\( n \\) bits.\n",
    "    - **Résistance aux collisions** : Difficile de trouver deux textes clairs distincts qui ont le même hash. Complexité générique : \\( 2^{n/2} \\) en utilisant le paradoxe des anniversaires.\n",
    "    - **Diffusion** : Un changement mineur dans le texte clair doit produire un hash complètement différent de manière imprévisible."
   ]
  },
  {
   "cell_type": "markdown",
   "metadata": {},
   "source": [
    "## **Exercice 1**\n",
    "\n",
    "Sur feuille"
   ]
  },
  {
   "cell_type": "markdown",
   "metadata": {},
   "source": [
    "## **Exercice 2**\n",
    "\n",
    "Au cours du calcul d’un chiffrement AES, la valeur du tableau à l’entrée du tour est :  \n",
    "\n",
    "12 00 c6 82  \n",
    "cf a4 4e ec  \n",
    "21 f4 a9 6b  \n",
    "de 05 78 60  \n",
    "\n",
    "**1. Calculer la valeur du tableau après SubBytes...**"
   ]
  },
  {
   "cell_type": "code",
   "execution_count": 2,
   "metadata": {},
   "outputs": [
    {
     "name": "stdout",
     "output_type": "stream",
     "text": [
      "State after SubBytes (4x4):\n",
      "c9 63 b4 13 \n",
      "8a 49 2f ce \n",
      "fd bf d3 7f \n",
      "1d 6b bc d0 \n",
      "\n"
     ]
    }
   ],
   "source": [
    "import ctypes\n",
    "\n",
    "state = (ctypes.c_uint8 * 16)(\n",
    "    0x12, 0x00, 0xc6, 0x82, \n",
    "    0xcf, 0xa4, 0x4e, 0xec, \n",
    "    0x21, 0xf4, 0xa9, 0x6b, \n",
    "    0xde, 0x05, 0x78, 0x60\n",
    ")\n",
    "\n",
    "my_aes = AES()\n",
    "my_aes.sub_bytes(state)"
   ]
  },
  {
   "cell_type": "markdown",
   "metadata": {},
   "source": [
    "**2. Puis après ShiftRows...**"
   ]
  },
  {
   "cell_type": "code",
   "execution_count": 3,
   "metadata": {},
   "outputs": [
    {
     "name": "stdout",
     "output_type": "stream",
     "text": [
      "State after ShiftRows (4x4):\n",
      "c9 63 b4 13 \n",
      "49 2f ce 8a \n",
      "d3 7f fd bf \n",
      "d0 1d 6d bc \n",
      "\n"
     ]
    }
   ],
   "source": [
    "state_after_sub_bytes = (ctypes.c_uint8 * 16)(\n",
    "    0xc9, 0x63, 0xb4, 0x13, \n",
    "    0x8a, 0x49, 0x2f, 0xce, \n",
    "    0xfd, 0xbf, 0xd3, 0x7f, \n",
    "    0x1d, 0x6d, 0xbc, 0xd0\n",
    ")\n",
    "\n",
    "my_aes.shift_rows(state_after_sub_bytes)"
   ]
  },
  {
   "cell_type": "markdown",
   "metadata": {},
   "source": [
    "**2. Puis après MixColumns.**"
   ]
  },
  {
   "cell_type": "code",
   "execution_count": 4,
   "metadata": {},
   "outputs": [
    {
     "name": "stdout",
     "output_type": "stream",
     "text": [
      "State after MixColumns (4x4):\n",
      "51 d5 aa a0 \n",
      "e5 a1 42 7a \n",
      "56 95 2c 23 \n",
      "61 cf 2e 63 \n",
      "\n"
     ]
    }
   ],
   "source": [
    "state_after_shift_rows = (ctypes.c_uint8 * 16)(\n",
    "    0xc9, 0x63, 0xb4, 0x13, \n",
    "    0x49, 0x2f, 0xce, 0x8a, \n",
    "    0xd3, 0x7f, 0xfd, 0xbf, \n",
    "    0xd0, 0x1d, 0x6d, 0xbc\n",
    ")\n",
    "\n",
    "my_aes.mix_columns(state_after_shift_rows)"
   ]
  },
  {
   "cell_type": "markdown",
   "metadata": {},
   "source": [
    "## **Exercice 3**\n",
    "\n",
    "On considère un chiffrement RSA avec le module n = 493, et l’exposant public e = 33.  \n",
    "\n",
    "**1. Calculer le chiffré c1 du message clair m1 = 110.**"
   ]
  },
  {
   "cell_type": "code",
   "execution_count": 5,
   "metadata": {},
   "outputs": [
    {
     "name": "stdout",
     "output_type": "stream",
     "text": [
      "\n",
      "Square and Multiply: 110 ^ 33 mod 493\n",
      "\tbin(33) = 100001\n",
      "\t0: Square: (1 * 1) % 493 = 1\n",
      "\t   Multiply: (1 * 110) % 493 = 110\n",
      "\t1: Square: (110 * 110) % 493 = 268\n",
      "\t   Pas de multiplication bit = 0\n",
      "\t2: Square: (268 * 268) % 493 = 339\n",
      "\t   Pas de multiplication bit = 0\n",
      "\t3: Square: (339 * 339) % 493 = 52\n",
      "\t   Pas de multiplication bit = 0\n",
      "\t4: Square: (52 * 52) % 493 = 239\n",
      "\t   Pas de multiplication bit = 0\n",
      "\t5: Square: (239 * 239) % 493 = 426\n",
      "\t   Multiply: (426 * 110) % 493 = 25\n",
      "\n",
      "\t=> 110 ^ 33 mod 493 = 25\n"
     ]
    }
   ],
   "source": [
    "my_rsa = RSA(n=493, e=33)\n",
    "c1 = my_rsa.encrypt(m=110)"
   ]
  },
  {
   "cell_type": "markdown",
   "metadata": {},
   "source": [
    "**2. Vérifier que p = 17 est un facteur de n. En déduire la valeur de ϕ(n).**"
   ]
  },
  {
   "cell_type": "code",
   "execution_count": 6,
   "metadata": {},
   "outputs": [
    {
     "name": "stdout",
     "output_type": "stream",
     "text": [
      "17 est un facteur de 493 car n % p == 0\n",
      "q = n / p = 29\n",
      "Calcul de ϕ(n) : (p-1) * (q-1) = (17-1) * (29-1) = 448\n",
      "ϕ(n) = 448\n"
     ]
    }
   ],
   "source": [
    "my_rsa.check_factor_p(17)\n",
    "my_rsa.found_phi_n()"
   ]
  },
  {
   "cell_type": "markdown",
   "metadata": {},
   "source": [
    "**3. Calculer la valeur de l’exposant de déchiffrement d. On pourra procéder par recherche exhaustive ou par recherche d’une identité de Bezout à l’aide de l’algorithme d’Euclide étendu.**"
   ]
  },
  {
   "cell_type": "code",
   "execution_count": 7,
   "metadata": {},
   "outputs": [
    {
     "name": "stdout",
     "output_type": "stream",
     "text": [
      "Début du calcul de d (appelé a par la suite) tel que d * e ≡ 1 (mod ϕ(n)) :\n",
      "\n",
      "Euclide étendu: a * 33 = 1 mod 448\n",
      "\n",
      "PGCD(33, 448):\n",
      "\t33 = 0 * 448 + 33\n",
      "\t448 = 13 * 33 + 19\n",
      "\t33 = 1 * 19 + 14\n",
      "\t19 = 1 * 14 + 5\n",
      "\t14 = 2 * 5 + 4\n",
      "\t5 = 1 * 4 + 1\n",
      "\t4 = 4 * 1 + 0\n",
      "\n",
      "\t=> PGCD = 1\n",
      "\n",
      "Remontée avec Euclide étendu:\n",
      "\tOn part de 1 = 5 - 1 * 4\n",
      "\t1 = -95 * 33 + 68 * 448\n",
      "\n",
      "=> 1 = -95 * 33 + 68 * 448 (mod 448) donc a = 353\n"
     ]
    }
   ],
   "source": [
    "my_rsa.found_d()"
   ]
  },
  {
   "cell_type": "markdown",
   "metadata": {},
   "source": [
    "**4. Calculer le message clair m2 correspondant au chiffrée c2 = 335.**"
   ]
  },
  {
   "cell_type": "code",
   "execution_count": 8,
   "metadata": {},
   "outputs": [
    {
     "name": "stdout",
     "output_type": "stream",
     "text": [
      "\n",
      "Square and Multiply: 335 ^ 353 mod 493\n",
      "\tbin(353) = 101100001\n",
      "\t0: Square: (1 * 1) % 493 = 1\n",
      "\t   Multiply: (1 * 335) % 493 = 335\n",
      "\t1: Square: (335 * 335) % 493 = 314\n",
      "\t   Pas de multiplication bit = 0\n",
      "\t2: Square: (314 * 314) % 493 = 489\n",
      "\t   Multiply: (489 * 335) % 493 = 139\n",
      "\t3: Square: (139 * 139) % 493 = 94\n",
      "\t   Multiply: (94 * 335) % 493 = 431\n",
      "\t4: Square: (431 * 431) % 493 = 393\n",
      "\t   Pas de multiplication bit = 0\n",
      "\t5: Square: (393 * 393) % 493 = 140\n",
      "\t   Pas de multiplication bit = 0\n",
      "\t6: Square: (140 * 140) % 493 = 373\n",
      "\t   Pas de multiplication bit = 0\n",
      "\t7: Square: (373 * 373) % 493 = 103\n",
      "\t   Pas de multiplication bit = 0\n",
      "\t8: Square: (103 * 103) % 493 = 256\n",
      "\t   Multiply: (256 * 335) % 493 = 471\n",
      "\n",
      "\t=> 335 ^ 353 mod 493 = 471\n",
      "\n",
      "Square and Multiply: 25 ^ 353 mod 493\n",
      "\tbin(353) = 101100001\n",
      "\t0: Square: (1 * 1) % 493 = 1\n",
      "\t   Multiply: (1 * 25) % 493 = 25\n",
      "\t1: Square: (25 * 25) % 493 = 132\n",
      "\t   Pas de multiplication bit = 0\n",
      "\t2: Square: (132 * 132) % 493 = 169\n",
      "\t   Multiply: (169 * 25) % 493 = 281\n",
      "\t3: Square: (281 * 281) % 493 = 81\n",
      "\t   Multiply: (81 * 25) % 493 = 53\n",
      "\t4: Square: (53 * 53) % 493 = 344\n",
      "\t   Pas de multiplication bit = 0\n",
      "\t5: Square: (344 * 344) % 493 = 16\n",
      "\t   Pas de multiplication bit = 0\n",
      "\t6: Square: (16 * 16) % 493 = 256\n",
      "\t   Pas de multiplication bit = 0\n",
      "\t7: Square: (256 * 256) % 493 = 460\n",
      "\t   Pas de multiplication bit = 0\n",
      "\t8: Square: (460 * 460) % 493 = 103\n",
      "\t   Multiply: (103 * 25) % 493 = 110\n",
      "\n",
      "\t=> 25 ^ 353 mod 493 = 110\n"
     ]
    }
   ],
   "source": [
    "my_rsa = RSA(n=493, e=33, d=353, p=17, q=29)\n",
    "c = my_rsa.decrypt(335)\n",
    "c = my_rsa.decrypt(25) # Pour vérifier"
   ]
  },
  {
   "cell_type": "markdown",
   "metadata": {},
   "source": [
    "## **Exercice 4**\n",
    "\n",
    "On se place dans le groupe multiplicatif (Z/101Z)∗ = {1, 2, . . . , 100} des entiers non nuls modulo 101.  \n",
    "\n",
    "**1. On admet que 7 est un générateur. Que cela signifie-t-il ?**"
   ]
  },
  {
   "cell_type": "code",
   "execution_count": 9,
   "metadata": {},
   "outputs": [
    {
     "name": "stdout",
     "output_type": "stream",
     "text": [
      "\n",
      "7 est un générateur de l'ensemble multiplicatif modulo 101 ?\n",
      "Le groupe a un ordre de 100. Nous devons vérifier si les puissances de 7 couvrent tous les entiers de 1 à 100 modulo 101\n",
      "\t1: 7^1 mod 101 = 7\n",
      "\t2: 7^2 mod 101 = 49\n",
      "\t3: 7^3 mod 101 = 40\n",
      "\t4: 7^4 mod 101 = 78\n",
      "\t5: 7^5 mod 101 = 41\n",
      "\t6: 7^6 mod 101 = 85\n",
      "\t7: 7^7 mod 101 = 90\n",
      "\t8: 7^8 mod 101 = 24\n",
      "\t9: 7^9 mod 101 = 67\n",
      "\t10: 7^10 mod 101 = 65\n",
      "\t11: 7^11 mod 101 = 51\n",
      "\t12: 7^12 mod 101 = 54\n",
      "\t13: 7^13 mod 101 = 75\n",
      "\t14: 7^14 mod 101 = 20\n",
      "\t15: 7^15 mod 101 = 39\n",
      "\t16: 7^16 mod 101 = 71\n",
      "\t17: 7^17 mod 101 = 93\n",
      "\t18: 7^18 mod 101 = 45\n",
      "\t19: 7^19 mod 101 = 12\n",
      "\t20: 7^20 mod 101 = 84\n",
      "\t21: 7^21 mod 101 = 83\n",
      "\t22: 7^22 mod 101 = 76\n",
      "\t23: 7^23 mod 101 = 27\n",
      "\t24: 7^24 mod 101 = 88\n",
      "\t25: 7^25 mod 101 = 10\n",
      "\t26: 7^26 mod 101 = 70\n",
      "\t27: 7^27 mod 101 = 86\n",
      "\t28: 7^28 mod 101 = 97\n",
      "\t29: 7^29 mod 101 = 73\n",
      "\t30: 7^30 mod 101 = 6\n",
      "\t31: 7^31 mod 101 = 42\n",
      "\t32: 7^32 mod 101 = 92\n",
      "\t33: 7^33 mod 101 = 38\n",
      "\t34: 7^34 mod 101 = 64\n",
      "\t35: 7^35 mod 101 = 44\n",
      "\t36: 7^36 mod 101 = 5\n",
      "\t37: 7^37 mod 101 = 35\n",
      "\t38: 7^38 mod 101 = 43\n",
      "\t39: 7^39 mod 101 = 99\n",
      "\t40: 7^40 mod 101 = 87\n",
      "\t41: 7^41 mod 101 = 3\n",
      "\t42: 7^42 mod 101 = 21\n",
      "\t43: 7^43 mod 101 = 46\n",
      "\t44: 7^44 mod 101 = 19\n",
      "\t45: 7^45 mod 101 = 32\n",
      "\t46: 7^46 mod 101 = 22\n",
      "\t47: 7^47 mod 101 = 53\n",
      "\t48: 7^48 mod 101 = 68\n",
      "\t49: 7^49 mod 101 = 72\n",
      "\t50: 7^50 mod 101 = 100\n",
      "\t51: 7^51 mod 101 = 94\n",
      "\t52: 7^52 mod 101 = 52\n",
      "\t53: 7^53 mod 101 = 61\n",
      "\t54: 7^54 mod 101 = 23\n",
      "\t55: 7^55 mod 101 = 60\n",
      "\t56: 7^56 mod 101 = 16\n",
      "\t57: 7^57 mod 101 = 11\n",
      "\t58: 7^58 mod 101 = 77\n",
      "\t59: 7^59 mod 101 = 34\n",
      "\t60: 7^60 mod 101 = 36\n",
      "\t61: 7^61 mod 101 = 50\n",
      "\t62: 7^62 mod 101 = 47\n",
      "\t63: 7^63 mod 101 = 26\n",
      "\t64: 7^64 mod 101 = 81\n",
      "\t65: 7^65 mod 101 = 62\n",
      "\t66: 7^66 mod 101 = 30\n",
      "\t67: 7^67 mod 101 = 8\n",
      "\t68: 7^68 mod 101 = 56\n",
      "\t69: 7^69 mod 101 = 89\n",
      "\t70: 7^70 mod 101 = 17\n",
      "\t71: 7^71 mod 101 = 18\n",
      "\t72: 7^72 mod 101 = 25\n",
      "\t73: 7^73 mod 101 = 74\n",
      "\t74: 7^74 mod 101 = 13\n",
      "\t75: 7^75 mod 101 = 91\n",
      "\t76: 7^76 mod 101 = 31\n",
      "\t77: 7^77 mod 101 = 15\n",
      "\t78: 7^78 mod 101 = 4\n",
      "\t79: 7^79 mod 101 = 28\n",
      "\t80: 7^80 mod 101 = 95\n",
      "\t81: 7^81 mod 101 = 59\n",
      "\t82: 7^82 mod 101 = 9\n",
      "\t83: 7^83 mod 101 = 63\n",
      "\t84: 7^84 mod 101 = 37\n",
      "\t85: 7^85 mod 101 = 57\n",
      "\t86: 7^86 mod 101 = 96\n",
      "\t87: 7^87 mod 101 = 66\n",
      "\t88: 7^88 mod 101 = 58\n",
      "\t89: 7^89 mod 101 = 2\n",
      "\t90: 7^90 mod 101 = 14\n",
      "\t91: 7^91 mod 101 = 98\n",
      "\t92: 7^92 mod 101 = 80\n",
      "\t93: 7^93 mod 101 = 55\n",
      "\t94: 7^94 mod 101 = 82\n",
      "\t95: 7^95 mod 101 = 69\n",
      "\t96: 7^96 mod 101 = 79\n",
      "\t97: 7^97 mod 101 = 48\n",
      "\t98: 7^98 mod 101 = 33\n",
      "\t99: 7^99 mod 101 = 29\n",
      "\t100: 7^100 mod 101 = 1\n",
      "\n",
      "\t=> 7 est un générateur car toutes les valeurs de 1 à 100 sont atteintes.\n"
     ]
    }
   ],
   "source": [
    "compute = BASIC_COMPUTE()\n",
    "r = compute.is_generator(101-1, 7)"
   ]
  },
  {
   "cell_type": "markdown",
   "metadata": {},
   "source": [
    "**2. On considère un chiffrement Elgamal avec comme clé publique (101, 7, 44). Calculer le chiffré du message 89 avec comme variable auxiliaire aléatoire 15.**"
   ]
  },
  {
   "cell_type": "code",
   "execution_count": 10,
   "metadata": {},
   "outputs": [
    {
     "name": "stdout",
     "output_type": "stream",
     "text": [
      "\n",
      "Modular Exponentiation: 7 ^ 15 mod 101\n",
      "\t1: (1 * 7) % 101 = 7\n",
      "\t2: (7 * 7) % 101 = 49\n",
      "\t3: (49 * 7) % 101 = 40\n",
      "\t4: (40 * 7) % 101 = 78\n",
      "\t5: (78 * 7) % 101 = 41\n",
      "\t6: (41 * 7) % 101 = 85\n",
      "\t7: (85 * 7) % 101 = 90\n",
      "\t8: (90 * 7) % 101 = 24\n",
      "\t9: (24 * 7) % 101 = 67\n",
      "\t10: (67 * 7) % 101 = 65\n",
      "\t11: (65 * 7) % 101 = 51\n",
      "\t12: (51 * 7) % 101 = 54\n",
      "\t13: (54 * 7) % 101 = 75\n",
      "\t14: (75 * 7) % 101 = 20\n",
      "\t15: (20 * 7) % 101 = 39\n",
      "\n",
      "\t=> 7 ^ 15 mod 101 = 39\n",
      "\n",
      "Modular Exponentiation: 44 ^ 15 mod 101\n",
      "\t1: (1 * 44) % 101 = 44\n",
      "\t2: (44 * 44) % 101 = 17\n",
      "\t3: (17 * 44) % 101 = 41\n",
      "\t4: (41 * 44) % 101 = 87\n",
      "\t5: (87 * 44) % 101 = 91\n",
      "\t6: (91 * 44) % 101 = 65\n",
      "\t7: (65 * 44) % 101 = 32\n",
      "\t8: (32 * 44) % 101 = 95\n",
      "\t9: (95 * 44) % 101 = 39\n",
      "\t10: (39 * 44) % 101 = 100\n",
      "\t11: (100 * 44) % 101 = 57\n",
      "\t12: (57 * 44) % 101 = 84\n",
      "\t13: (84 * 44) % 101 = 60\n",
      "\t14: (60 * 44) % 101 = 14\n",
      "\t15: (14 * 44) % 101 = 10\n",
      "\n",
      "\t=> 44 ^ 15 mod 101 = 10\n",
      "\n",
      "Chiffrement : c1 = 7^15 mod 101\n",
      "\t\t= 39\n",
      "Chiffrement : c2 = 89 * 44^15 mod 101\n",
      "\t\t= 82\n"
     ]
    }
   ],
   "source": [
    "my_elgamal = ELGAMAL(p=101, g=7, h=44)\n",
    "c1, c2 = my_elgamal.encrypt(m=89, k=15)"
   ]
  },
  {
   "cell_type": "markdown",
   "metadata": {},
   "source": [
    "**3. Vérifier que 35 est la clé privée correspondant à la clé publique ci-dessus.**"
   ]
  },
  {
   "cell_type": "code",
   "execution_count": 11,
   "metadata": {},
   "outputs": [
    {
     "name": "stdout",
     "output_type": "stream",
     "text": [
      "35 est la clé privée car 7^35 mod 101 = 44\n"
     ]
    }
   ],
   "source": [
    "my_elgamal.verify_private_key(x=35)"
   ]
  },
  {
   "cell_type": "markdown",
   "metadata": {},
   "source": [
    "**4. Déchiffrer le texte chiffré obtenu à la question 2 et retrouver le texte clair**"
   ]
  },
  {
   "cell_type": "code",
   "execution_count": 12,
   "metadata": {},
   "outputs": [
    {
     "name": "stdout",
     "output_type": "stream",
     "text": [
      "\n",
      "Modular Exponentiation: 39 ^ 35 mod 101\n",
      "\t1: (1 * 39) % 101 = 39\n",
      "\t2: (39 * 39) % 101 = 6\n",
      "\t3: (6 * 39) % 101 = 32\n",
      "\t4: (32 * 39) % 101 = 36\n",
      "\t5: (36 * 39) % 101 = 91\n",
      "\t6: (91 * 39) % 101 = 14\n",
      "\t7: (14 * 39) % 101 = 41\n",
      "\t8: (41 * 39) % 101 = 84\n",
      "\t9: (84 * 39) % 101 = 44\n",
      "\t10: (44 * 39) % 101 = 100\n",
      "\t11: (100 * 39) % 101 = 62\n",
      "\t12: (62 * 39) % 101 = 95\n",
      "\t13: (95 * 39) % 101 = 69\n",
      "\t14: (69 * 39) % 101 = 65\n",
      "\t15: (65 * 39) % 101 = 10\n",
      "\t16: (10 * 39) % 101 = 87\n",
      "\t17: (87 * 39) % 101 = 60\n",
      "\t18: (60 * 39) % 101 = 17\n",
      "\t19: (17 * 39) % 101 = 57\n",
      "\t20: (57 * 39) % 101 = 1\n",
      "\t21: (1 * 39) % 101 = 39\n",
      "\t22: (39 * 39) % 101 = 6\n",
      "\t23: (6 * 39) % 101 = 32\n",
      "\t24: (32 * 39) % 101 = 36\n",
      "\t25: (36 * 39) % 101 = 91\n",
      "\t26: (91 * 39) % 101 = 14\n",
      "\t27: (14 * 39) % 101 = 41\n",
      "\t28: (41 * 39) % 101 = 84\n",
      "\t29: (84 * 39) % 101 = 44\n",
      "\t30: (44 * 39) % 101 = 100\n",
      "\t31: (100 * 39) % 101 = 62\n",
      "\t32: (62 * 39) % 101 = 95\n",
      "\t33: (95 * 39) % 101 = 69\n",
      "\t34: (69 * 39) % 101 = 65\n",
      "\t35: (65 * 39) % 101 = 10\n",
      "\n",
      "\t=> 39 ^ 35 mod 101 = 10\n",
      "\n",
      "Modular Exponentiation: 10 ^ -1 mod 101\n",
      "\n",
      "\t=> 10 ^ -1 mod 101 = 1\n",
      "\n",
      "Déchiffrement : s = 39^35 mod 101\n",
      "\t\t= 10\n",
      "Déchiffrement : m = 82 * 1 mod 101\n",
      "\t\t= 82\n"
     ]
    }
   ],
   "source": [
    "m = my_elgamal.decrypt(c1, c2)"
   ]
  },
  {
   "cell_type": "markdown",
   "metadata": {},
   "source": [
    "## **Exercice 5**\n",
    "\n",
    "On considère la courbe elliptique définie sur le corps F11 = Z/11Z par l’équation y^2 = x^3 − x + 1\n",
    "\n",
    "**1. Vérifier que les points P1 = (0, 1) et P2 = (5, 0) sont sur la courbe.**"
   ]
  },
  {
   "cell_type": "code",
   "execution_count": 13,
   "metadata": {},
   "outputs": [
    {
     "name": "stdout",
     "output_type": "stream",
     "text": [
      "\n",
      "Calcul des points de la courbe E : y^2 = x^3 + -1*x + 1 sur le corps fini GF(11)\n",
      "Nous devons tester 121 combinaisons de points (x, y)\n",
      "Vérification : (0,0) sur E ? 0^2 = 0^3 + -1*0 + 1 (mod 11)\n",
      "\t=> Faux, ce point n'appartient pas à la courbe\n",
      "Vérification : (0,1) sur E ? 1^2 = 0^3 + -1*0 + 1 (mod 11)\n",
      "\t=> Vrai, ce point appartient à la courbe\n",
      "Vérification : (0,2) sur E ? 2^2 = 0^3 + -1*0 + 1 (mod 11)\n",
      "\t=> Faux, ce point n'appartient pas à la courbe\n",
      "Vérification : (0,3) sur E ? 3^2 = 0^3 + -1*0 + 1 (mod 11)\n",
      "\t=> Faux, ce point n'appartient pas à la courbe\n",
      "Vérification : (0,4) sur E ? 4^2 = 0^3 + -1*0 + 1 (mod 11)\n",
      "\t=> Faux, ce point n'appartient pas à la courbe\n",
      "Vérification : (0,5) sur E ? 5^2 = 0^3 + -1*0 + 1 (mod 11)\n",
      "\t=> Faux, ce point n'appartient pas à la courbe\n",
      "Vérification : (0,6) sur E ? 6^2 = 0^3 + -1*0 + 1 (mod 11)\n",
      "\t=> Faux, ce point n'appartient pas à la courbe\n",
      "Vérification : (0,7) sur E ? 7^2 = 0^3 + -1*0 + 1 (mod 11)\n",
      "\t=> Faux, ce point n'appartient pas à la courbe\n",
      "Vérification : (0,8) sur E ? 8^2 = 0^3 + -1*0 + 1 (mod 11)\n",
      "\t=> Faux, ce point n'appartient pas à la courbe\n",
      "Vérification : (0,9) sur E ? 9^2 = 0^3 + -1*0 + 1 (mod 11)\n",
      "\t=> Faux, ce point n'appartient pas à la courbe\n",
      "Vérification : (0,10) sur E ? 10^2 = 0^3 + -1*0 + 1 (mod 11)\n",
      "\t=> Vrai, ce point appartient à la courbe\n",
      "Vérification : (1,0) sur E ? 0^2 = 1^3 + -1*1 + 1 (mod 11)\n",
      "\t=> Faux, ce point n'appartient pas à la courbe\n",
      "Vérification : (1,1) sur E ? 1^2 = 1^3 + -1*1 + 1 (mod 11)\n",
      "\t=> Vrai, ce point appartient à la courbe\n",
      "Vérification : (1,2) sur E ? 2^2 = 1^3 + -1*1 + 1 (mod 11)\n",
      "\t=> Faux, ce point n'appartient pas à la courbe\n",
      "Vérification : (1,3) sur E ? 3^2 = 1^3 + -1*1 + 1 (mod 11)\n",
      "\t=> Faux, ce point n'appartient pas à la courbe\n",
      "Vérification : (1,4) sur E ? 4^2 = 1^3 + -1*1 + 1 (mod 11)\n",
      "\t=> Faux, ce point n'appartient pas à la courbe\n",
      "Vérification : (1,5) sur E ? 5^2 = 1^3 + -1*1 + 1 (mod 11)\n",
      "\t=> Faux, ce point n'appartient pas à la courbe\n",
      "Vérification : (1,6) sur E ? 6^2 = 1^3 + -1*1 + 1 (mod 11)\n",
      "\t=> Faux, ce point n'appartient pas à la courbe\n",
      "Vérification : (1,7) sur E ? 7^2 = 1^3 + -1*1 + 1 (mod 11)\n",
      "\t=> Faux, ce point n'appartient pas à la courbe\n",
      "Vérification : (1,8) sur E ? 8^2 = 1^3 + -1*1 + 1 (mod 11)\n",
      "\t=> Faux, ce point n'appartient pas à la courbe\n",
      "Vérification : (1,9) sur E ? 9^2 = 1^3 + -1*1 + 1 (mod 11)\n",
      "\t=> Faux, ce point n'appartient pas à la courbe\n",
      "Vérification : (1,10) sur E ? 10^2 = 1^3 + -1*1 + 1 (mod 11)\n",
      "\t=> Vrai, ce point appartient à la courbe\n",
      "Vérification : (2,0) sur E ? 0^2 = 2^3 + -1*2 + 1 (mod 11)\n",
      "\t=> Faux, ce point n'appartient pas à la courbe\n",
      "Vérification : (2,1) sur E ? 1^2 = 2^3 + -1*2 + 1 (mod 11)\n",
      "\t=> Faux, ce point n'appartient pas à la courbe\n",
      "Vérification : (2,2) sur E ? 2^2 = 2^3 + -1*2 + 1 (mod 11)\n",
      "\t=> Faux, ce point n'appartient pas à la courbe\n",
      "Vérification : (2,3) sur E ? 3^2 = 2^3 + -1*2 + 1 (mod 11)\n",
      "\t=> Faux, ce point n'appartient pas à la courbe\n",
      "Vérification : (2,4) sur E ? 4^2 = 2^3 + -1*2 + 1 (mod 11)\n",
      "\t=> Faux, ce point n'appartient pas à la courbe\n",
      "Vérification : (2,5) sur E ? 5^2 = 2^3 + -1*2 + 1 (mod 11)\n",
      "\t=> Faux, ce point n'appartient pas à la courbe\n",
      "Vérification : (2,6) sur E ? 6^2 = 2^3 + -1*2 + 1 (mod 11)\n",
      "\t=> Faux, ce point n'appartient pas à la courbe\n",
      "Vérification : (2,7) sur E ? 7^2 = 2^3 + -1*2 + 1 (mod 11)\n",
      "\t=> Faux, ce point n'appartient pas à la courbe\n",
      "Vérification : (2,8) sur E ? 8^2 = 2^3 + -1*2 + 1 (mod 11)\n",
      "\t=> Faux, ce point n'appartient pas à la courbe\n",
      "Vérification : (2,9) sur E ? 9^2 = 2^3 + -1*2 + 1 (mod 11)\n",
      "\t=> Faux, ce point n'appartient pas à la courbe\n",
      "Vérification : (2,10) sur E ? 10^2 = 2^3 + -1*2 + 1 (mod 11)\n",
      "\t=> Faux, ce point n'appartient pas à la courbe\n",
      "Vérification : (3,0) sur E ? 0^2 = 3^3 + -1*3 + 1 (mod 11)\n",
      "\t=> Faux, ce point n'appartient pas à la courbe\n",
      "Vérification : (3,1) sur E ? 1^2 = 3^3 + -1*3 + 1 (mod 11)\n",
      "\t=> Faux, ce point n'appartient pas à la courbe\n",
      "Vérification : (3,2) sur E ? 2^2 = 3^3 + -1*3 + 1 (mod 11)\n",
      "\t=> Faux, ce point n'appartient pas à la courbe\n",
      "Vérification : (3,3) sur E ? 3^2 = 3^3 + -1*3 + 1 (mod 11)\n",
      "\t=> Faux, ce point n'appartient pas à la courbe\n",
      "Vérification : (3,4) sur E ? 4^2 = 3^3 + -1*3 + 1 (mod 11)\n",
      "\t=> Faux, ce point n'appartient pas à la courbe\n",
      "Vérification : (3,5) sur E ? 5^2 = 3^3 + -1*3 + 1 (mod 11)\n",
      "\t=> Vrai, ce point appartient à la courbe\n",
      "Vérification : (3,6) sur E ? 6^2 = 3^3 + -1*3 + 1 (mod 11)\n",
      "\t=> Vrai, ce point appartient à la courbe\n",
      "Vérification : (3,7) sur E ? 7^2 = 3^3 + -1*3 + 1 (mod 11)\n",
      "\t=> Faux, ce point n'appartient pas à la courbe\n",
      "Vérification : (3,8) sur E ? 8^2 = 3^3 + -1*3 + 1 (mod 11)\n",
      "\t=> Faux, ce point n'appartient pas à la courbe\n",
      "Vérification : (3,9) sur E ? 9^2 = 3^3 + -1*3 + 1 (mod 11)\n",
      "\t=> Faux, ce point n'appartient pas à la courbe\n",
      "Vérification : (3,10) sur E ? 10^2 = 3^3 + -1*3 + 1 (mod 11)\n",
      "\t=> Faux, ce point n'appartient pas à la courbe\n",
      "Vérification : (4,0) sur E ? 0^2 = 4^3 + -1*4 + 1 (mod 11)\n",
      "\t=> Faux, ce point n'appartient pas à la courbe\n",
      "Vérification : (4,1) sur E ? 1^2 = 4^3 + -1*4 + 1 (mod 11)\n",
      "\t=> Faux, ce point n'appartient pas à la courbe\n",
      "Vérification : (4,2) sur E ? 2^2 = 4^3 + -1*4 + 1 (mod 11)\n",
      "\t=> Faux, ce point n'appartient pas à la courbe\n",
      "Vérification : (4,3) sur E ? 3^2 = 4^3 + -1*4 + 1 (mod 11)\n",
      "\t=> Faux, ce point n'appartient pas à la courbe\n",
      "Vérification : (4,4) sur E ? 4^2 = 4^3 + -1*4 + 1 (mod 11)\n",
      "\t=> Faux, ce point n'appartient pas à la courbe\n",
      "Vérification : (4,5) sur E ? 5^2 = 4^3 + -1*4 + 1 (mod 11)\n",
      "\t=> Faux, ce point n'appartient pas à la courbe\n",
      "Vérification : (4,6) sur E ? 6^2 = 4^3 + -1*4 + 1 (mod 11)\n",
      "\t=> Faux, ce point n'appartient pas à la courbe\n",
      "Vérification : (4,7) sur E ? 7^2 = 4^3 + -1*4 + 1 (mod 11)\n",
      "\t=> Faux, ce point n'appartient pas à la courbe\n",
      "Vérification : (4,8) sur E ? 8^2 = 4^3 + -1*4 + 1 (mod 11)\n",
      "\t=> Faux, ce point n'appartient pas à la courbe\n",
      "Vérification : (4,9) sur E ? 9^2 = 4^3 + -1*4 + 1 (mod 11)\n",
      "\t=> Faux, ce point n'appartient pas à la courbe\n",
      "Vérification : (4,10) sur E ? 10^2 = 4^3 + -1*4 + 1 (mod 11)\n",
      "\t=> Faux, ce point n'appartient pas à la courbe\n",
      "Vérification : (5,0) sur E ? 0^2 = 5^3 + -1*5 + 1 (mod 11)\n",
      "\t=> Vrai, ce point appartient à la courbe\n",
      "Vérification : (5,1) sur E ? 1^2 = 5^3 + -1*5 + 1 (mod 11)\n",
      "\t=> Faux, ce point n'appartient pas à la courbe\n",
      "Vérification : (5,2) sur E ? 2^2 = 5^3 + -1*5 + 1 (mod 11)\n",
      "\t=> Faux, ce point n'appartient pas à la courbe\n",
      "Vérification : (5,3) sur E ? 3^2 = 5^3 + -1*5 + 1 (mod 11)\n",
      "\t=> Faux, ce point n'appartient pas à la courbe\n",
      "Vérification : (5,4) sur E ? 4^2 = 5^3 + -1*5 + 1 (mod 11)\n",
      "\t=> Faux, ce point n'appartient pas à la courbe\n",
      "Vérification : (5,5) sur E ? 5^2 = 5^3 + -1*5 + 1 (mod 11)\n",
      "\t=> Faux, ce point n'appartient pas à la courbe\n",
      "Vérification : (5,6) sur E ? 6^2 = 5^3 + -1*5 + 1 (mod 11)\n",
      "\t=> Faux, ce point n'appartient pas à la courbe\n",
      "Vérification : (5,7) sur E ? 7^2 = 5^3 + -1*5 + 1 (mod 11)\n",
      "\t=> Faux, ce point n'appartient pas à la courbe\n",
      "Vérification : (5,8) sur E ? 8^2 = 5^3 + -1*5 + 1 (mod 11)\n",
      "\t=> Faux, ce point n'appartient pas à la courbe\n",
      "Vérification : (5,9) sur E ? 9^2 = 5^3 + -1*5 + 1 (mod 11)\n",
      "\t=> Faux, ce point n'appartient pas à la courbe\n",
      "Vérification : (5,10) sur E ? 10^2 = 5^3 + -1*5 + 1 (mod 11)\n",
      "\t=> Faux, ce point n'appartient pas à la courbe\n",
      "Vérification : (6,0) sur E ? 0^2 = 6^3 + -1*6 + 1 (mod 11)\n",
      "\t=> Faux, ce point n'appartient pas à la courbe\n",
      "Vérification : (6,1) sur E ? 1^2 = 6^3 + -1*6 + 1 (mod 11)\n",
      "\t=> Faux, ce point n'appartient pas à la courbe\n",
      "Vérification : (6,2) sur E ? 2^2 = 6^3 + -1*6 + 1 (mod 11)\n",
      "\t=> Faux, ce point n'appartient pas à la courbe\n",
      "Vérification : (6,3) sur E ? 3^2 = 6^3 + -1*6 + 1 (mod 11)\n",
      "\t=> Faux, ce point n'appartient pas à la courbe\n",
      "Vérification : (6,4) sur E ? 4^2 = 6^3 + -1*6 + 1 (mod 11)\n",
      "\t=> Faux, ce point n'appartient pas à la courbe\n",
      "Vérification : (6,5) sur E ? 5^2 = 6^3 + -1*6 + 1 (mod 11)\n",
      "\t=> Faux, ce point n'appartient pas à la courbe\n",
      "Vérification : (6,6) sur E ? 6^2 = 6^3 + -1*6 + 1 (mod 11)\n",
      "\t=> Faux, ce point n'appartient pas à la courbe\n",
      "Vérification : (6,7) sur E ? 7^2 = 6^3 + -1*6 + 1 (mod 11)\n",
      "\t=> Faux, ce point n'appartient pas à la courbe\n",
      "Vérification : (6,8) sur E ? 8^2 = 6^3 + -1*6 + 1 (mod 11)\n",
      "\t=> Faux, ce point n'appartient pas à la courbe\n",
      "Vérification : (6,9) sur E ? 9^2 = 6^3 + -1*6 + 1 (mod 11)\n",
      "\t=> Faux, ce point n'appartient pas à la courbe\n",
      "Vérification : (6,10) sur E ? 10^2 = 6^3 + -1*6 + 1 (mod 11)\n",
      "\t=> Faux, ce point n'appartient pas à la courbe\n",
      "Vérification : (7,0) sur E ? 0^2 = 7^3 + -1*7 + 1 (mod 11)\n",
      "\t=> Faux, ce point n'appartient pas à la courbe\n",
      "Vérification : (7,1) sur E ? 1^2 = 7^3 + -1*7 + 1 (mod 11)\n",
      "\t=> Faux, ce point n'appartient pas à la courbe\n",
      "Vérification : (7,2) sur E ? 2^2 = 7^3 + -1*7 + 1 (mod 11)\n",
      "\t=> Faux, ce point n'appartient pas à la courbe\n",
      "Vérification : (7,3) sur E ? 3^2 = 7^3 + -1*7 + 1 (mod 11)\n",
      "\t=> Faux, ce point n'appartient pas à la courbe\n",
      "Vérification : (7,4) sur E ? 4^2 = 7^3 + -1*7 + 1 (mod 11)\n",
      "\t=> Faux, ce point n'appartient pas à la courbe\n",
      "Vérification : (7,5) sur E ? 5^2 = 7^3 + -1*7 + 1 (mod 11)\n",
      "\t=> Faux, ce point n'appartient pas à la courbe\n",
      "Vérification : (7,6) sur E ? 6^2 = 7^3 + -1*7 + 1 (mod 11)\n",
      "\t=> Faux, ce point n'appartient pas à la courbe\n",
      "Vérification : (7,7) sur E ? 7^2 = 7^3 + -1*7 + 1 (mod 11)\n",
      "\t=> Faux, ce point n'appartient pas à la courbe\n",
      "Vérification : (7,8) sur E ? 8^2 = 7^3 + -1*7 + 1 (mod 11)\n",
      "\t=> Faux, ce point n'appartient pas à la courbe\n",
      "Vérification : (7,9) sur E ? 9^2 = 7^3 + -1*7 + 1 (mod 11)\n",
      "\t=> Faux, ce point n'appartient pas à la courbe\n",
      "Vérification : (7,10) sur E ? 10^2 = 7^3 + -1*7 + 1 (mod 11)\n",
      "\t=> Faux, ce point n'appartient pas à la courbe\n",
      "Vérification : (8,0) sur E ? 0^2 = 8^3 + -1*8 + 1 (mod 11)\n",
      "\t=> Faux, ce point n'appartient pas à la courbe\n",
      "Vérification : (8,1) sur E ? 1^2 = 8^3 + -1*8 + 1 (mod 11)\n",
      "\t=> Faux, ce point n'appartient pas à la courbe\n",
      "Vérification : (8,2) sur E ? 2^2 = 8^3 + -1*8 + 1 (mod 11)\n",
      "\t=> Faux, ce point n'appartient pas à la courbe\n",
      "Vérification : (8,3) sur E ? 3^2 = 8^3 + -1*8 + 1 (mod 11)\n",
      "\t=> Faux, ce point n'appartient pas à la courbe\n",
      "Vérification : (8,4) sur E ? 4^2 = 8^3 + -1*8 + 1 (mod 11)\n",
      "\t=> Faux, ce point n'appartient pas à la courbe\n",
      "Vérification : (8,5) sur E ? 5^2 = 8^3 + -1*8 + 1 (mod 11)\n",
      "\t=> Faux, ce point n'appartient pas à la courbe\n",
      "Vérification : (8,6) sur E ? 6^2 = 8^3 + -1*8 + 1 (mod 11)\n",
      "\t=> Faux, ce point n'appartient pas à la courbe\n",
      "Vérification : (8,7) sur E ? 7^2 = 8^3 + -1*8 + 1 (mod 11)\n",
      "\t=> Faux, ce point n'appartient pas à la courbe\n",
      "Vérification : (8,8) sur E ? 8^2 = 8^3 + -1*8 + 1 (mod 11)\n",
      "\t=> Faux, ce point n'appartient pas à la courbe\n",
      "Vérification : (8,9) sur E ? 9^2 = 8^3 + -1*8 + 1 (mod 11)\n",
      "\t=> Faux, ce point n'appartient pas à la courbe\n",
      "Vérification : (8,10) sur E ? 10^2 = 8^3 + -1*8 + 1 (mod 11)\n",
      "\t=> Faux, ce point n'appartient pas à la courbe\n",
      "Vérification : (9,0) sur E ? 0^2 = 9^3 + -1*9 + 1 (mod 11)\n",
      "\t=> Faux, ce point n'appartient pas à la courbe\n",
      "Vérification : (9,1) sur E ? 1^2 = 9^3 + -1*9 + 1 (mod 11)\n",
      "\t=> Faux, ce point n'appartient pas à la courbe\n",
      "Vérification : (9,2) sur E ? 2^2 = 9^3 + -1*9 + 1 (mod 11)\n",
      "\t=> Faux, ce point n'appartient pas à la courbe\n",
      "Vérification : (9,3) sur E ? 3^2 = 9^3 + -1*9 + 1 (mod 11)\n",
      "\t=> Faux, ce point n'appartient pas à la courbe\n",
      "Vérification : (9,4) sur E ? 4^2 = 9^3 + -1*9 + 1 (mod 11)\n",
      "\t=> Faux, ce point n'appartient pas à la courbe\n",
      "Vérification : (9,5) sur E ? 5^2 = 9^3 + -1*9 + 1 (mod 11)\n",
      "\t=> Faux, ce point n'appartient pas à la courbe\n",
      "Vérification : (9,6) sur E ? 6^2 = 9^3 + -1*9 + 1 (mod 11)\n",
      "\t=> Faux, ce point n'appartient pas à la courbe\n",
      "Vérification : (9,7) sur E ? 7^2 = 9^3 + -1*9 + 1 (mod 11)\n",
      "\t=> Faux, ce point n'appartient pas à la courbe\n",
      "Vérification : (9,8) sur E ? 8^2 = 9^3 + -1*9 + 1 (mod 11)\n",
      "\t=> Faux, ce point n'appartient pas à la courbe\n",
      "Vérification : (9,9) sur E ? 9^2 = 9^3 + -1*9 + 1 (mod 11)\n",
      "\t=> Faux, ce point n'appartient pas à la courbe\n",
      "Vérification : (9,10) sur E ? 10^2 = 9^3 + -1*9 + 1 (mod 11)\n",
      "\t=> Faux, ce point n'appartient pas à la courbe\n",
      "Vérification : (10,0) sur E ? 0^2 = 10^3 + -1*10 + 1 (mod 11)\n",
      "\t=> Faux, ce point n'appartient pas à la courbe\n",
      "Vérification : (10,1) sur E ? 1^2 = 10^3 + -1*10 + 1 (mod 11)\n",
      "\t=> Vrai, ce point appartient à la courbe\n",
      "Vérification : (10,2) sur E ? 2^2 = 10^3 + -1*10 + 1 (mod 11)\n",
      "\t=> Faux, ce point n'appartient pas à la courbe\n",
      "Vérification : (10,3) sur E ? 3^2 = 10^3 + -1*10 + 1 (mod 11)\n",
      "\t=> Faux, ce point n'appartient pas à la courbe\n",
      "Vérification : (10,4) sur E ? 4^2 = 10^3 + -1*10 + 1 (mod 11)\n",
      "\t=> Faux, ce point n'appartient pas à la courbe\n",
      "Vérification : (10,5) sur E ? 5^2 = 10^3 + -1*10 + 1 (mod 11)\n",
      "\t=> Faux, ce point n'appartient pas à la courbe\n",
      "Vérification : (10,6) sur E ? 6^2 = 10^3 + -1*10 + 1 (mod 11)\n",
      "\t=> Faux, ce point n'appartient pas à la courbe\n",
      "Vérification : (10,7) sur E ? 7^2 = 10^3 + -1*10 + 1 (mod 11)\n",
      "\t=> Faux, ce point n'appartient pas à la courbe\n",
      "Vérification : (10,8) sur E ? 8^2 = 10^3 + -1*10 + 1 (mod 11)\n",
      "\t=> Faux, ce point n'appartient pas à la courbe\n",
      "Vérification : (10,9) sur E ? 9^2 = 10^3 + -1*10 + 1 (mod 11)\n",
      "\t=> Faux, ce point n'appartient pas à la courbe\n",
      "Vérification : (10,10) sur E ? 10^2 = 10^3 + -1*10 + 1 (mod 11)\n",
      "\t=> Vrai, ce point appartient à la courbe\n",
      "\n",
      "Il y a 10 points sur la courbe (en comptant le point à l'infini)\n",
      "Points trouvés : [(0, 1), (0, 10), (1, 1), (1, 10), (3, 5), (3, 6), (5, 0), (10, 1), (10, 10)]\n",
      "\n"
     ]
    }
   ],
   "source": [
    "my_ecc = ECC(a=-1, b=1, GF=11) # curve => y^2 = x^3 + a*x + b\n",
    "my_ecc.compute_points()"
   ]
  },
  {
   "cell_type": "markdown",
   "metadata": {},
   "source": [
    "**2. Calculer P3 = P1 + P2.**"
   ]
  },
  {
   "cell_type": "code",
   "execution_count": 14,
   "metadata": {},
   "outputs": [
    {
     "name": "stdout",
     "output_type": "stream",
     "text": [
      "\n",
      "Addition de deux points P et Q :\n",
      "\tλ (lambda) = (0 - 1) * (inverse de 5 - 0) mod 11 = 2\n",
      "\txr = (λ^2 - Px - Qx) mod GF\n",
      "\tyr = (λ^2 * (Px - xr) - Py) mod GF\n",
      "\t=> Point résultant : (10, 1)\n",
      "\n"
     ]
    }
   ],
   "source": [
    "_ = my_ecc.add_two_point(P=(0, 1), Q=(5, 0))"
   ]
  },
  {
   "cell_type": "markdown",
   "metadata": {},
   "source": [
    "**3. Donner un encadrement du nombre de points de la courbe en utilisant la borne de Weil.**"
   ]
  },
  {
   "cell_type": "code",
   "execution_count": 15,
   "metadata": {},
   "outputs": [
    {
     "name": "stdout",
     "output_type": "stream",
     "text": [
      "\n",
      "Borne de Hasse-Weil : [6, 18]\n",
      "Calculée comme [11 + 1 - 2*sqrt(11), 11 + 1 + 2*sqrt(11)]\n",
      "\n"
     ]
    }
   ],
   "source": [
    "my_ecc.hasse_weil_borne()"
   ]
  },
  {
   "cell_type": "markdown",
   "metadata": {},
   "source": [
    "**4. Calculer la liste des carrés des éléments de F11.**"
   ]
  },
  {
   "cell_type": "code",
   "execution_count": 16,
   "metadata": {},
   "outputs": [],
   "source": [
    "compute = BASIC_COMPUTE()"
   ]
  }
 ],
 "metadata": {
  "kernelspec": {
   "display_name": "Python 3",
   "language": "python",
   "name": "python3"
  },
  "language_info": {
   "codemirror_mode": {
    "name": "ipython",
    "version": 3
   },
   "file_extension": ".py",
   "mimetype": "text/x-python",
   "name": "python",
   "nbconvert_exporter": "python",
   "pygments_lexer": "ipython3",
   "version": "3.12.6"
  }
 },
 "nbformat": 4,
 "nbformat_minor": 2
}
