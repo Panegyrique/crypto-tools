{
 "cells": [
  {
   "cell_type": "markdown",
   "metadata": {},
   "source": [
    "# **Examen 2022-2023**"
   ]
  },
  {
   "cell_type": "code",
   "execution_count": 3,
   "metadata": {},
   "outputs": [],
   "source": [
    "import sys\n",
    "import os\n",
    "from pathlib import Path\n",
    "current_dir = Path(os.getcwd())\n",
    "parent_dir = current_dir.parent\n",
    "sys.path.append(str(parent_dir))\n",
    "\n",
    "from algorithm import AES, CESAR, DIFFIE_HELLMANN, ECC, ELGAMAL, RSA, VIGENERE\n",
    "from compute import BASIC_COMPUTE, LFSR"
   ]
  },
  {
   "cell_type": "markdown",
   "metadata": {},
   "source": [
    "## **Questions de cours**\n",
    "\n",
    "1. *Quels sont les quatre contextes d’attaques pour un algorithme de chiffrement ?*  \n",
    "   Les quatre contextes d'attaques pour un algorithme de chiffrement sont :  \n",
    "   - **Attaque par texte clair choisi** : L'attaquant peut choisir le texte clair à chiffrer et observe le texte chiffré résultant.\n",
    "   - **Attaque par texte chiffré choisi** : L'attaquant a accès à des textes chiffrés et essaie de déterminer le texte clair correspondant.\n",
    "   - **Attaque par texte clair et chiffré connus** : L'attaquant dispose de plusieurs paires de textes clairs et chiffrés pour analyser la relation.\n",
    "   - **Attaque par oracle** : L'attaquant interroge un oracle (un système capable de donner des réponses) pour obtenir des signatures ou des déchiffrements, exploitant les réponses pour casser la sécurité.\n",
    "\n",
    "2. *Que signifie l’adjectif “calculatoire” lorsque l’on parle de “sécurité calculatoire” ?*  \n",
    "   L’adjectif “calculatoire” se réfère à la dépendance de la sécurité des systèmes cryptographiques vis-à-vis de la difficulté de résoudre certains problèmes mathématiques en un temps raisonnable. Cela signifie que la sécurité est assurée tant que les ressources nécessaires pour réaliser une attaque restent prohibitivement élevées, même si l’attaquant a des capacités de calcul considérables.\n",
    "\n",
    "3. *Quelles sont les quatre propriétés fondamentales d’une fonction de hachage cryptographique ?*  \n",
    "   Les quatre propriétés fondamentales d’une fonction de hachage cryptographique sont :  \n",
    "   - **Pré-image résistance** : Il doit être difficile de retrouver le texte clair à partir de son hash.\n",
    "   - **Résistance à la seconde pré-image** : Il doit être difficile de trouver un deuxième texte clair qui produit le même hash qu’un texte clair donné.\n",
    "   - **Résistance aux collisions** : Il doit être difficile de trouver deux textes clairs différents ayant le même hash.\n",
    "   - **Diffusion** : Un petit changement dans le texte d’entrée doit produire un changement significatif et imprévisible dans le hash.\n",
    "\n",
    "4. *Donner la complexité générique de l’obtention d’une collision pour une fonction de hachage.*  \n",
    "   La complexité générique de l’obtention d’une collision pour une fonction de hachage de taille \\( n \\) bits est de \\( 2^{n/2} \\) opérations, selon le paradoxe des anniversaires. Cela signifie qu’il suffit de \\( 2^{n/2} \\) essais pour avoir une probabilité significative de trouver deux entrées différentes qui produisent le même hash.\n",
    "\n",
    "5. *Quelle est la période maximale d’un LFSR ?*  \n",
    "   La période maximale d'un registre à décalage à rétroaction linéaire (LFSR) de longueur \\( n \\) est de \\( 2^n - 1 \\). Cela se produit lorsque le LFSR est alimenté avec un polynôme générateur primitif.\n",
    "\n",
    "6. *Dans le problème du logarithme discret sur courbes elliptiques, quelle taille doit avoir le nombre premier pour un niveau de sécurité de 2256 ? Quelle est la taille du modulus RSA qui donnerait le même niveau de sécurité ?*  \n",
    "   Pour un niveau de sécurité de 2256 bits dans le problème du logarithme discret sur courbes elliptiques, le nombre premier doit avoir une taille d'environ 256 bits. Pour obtenir un niveau de sécurité équivalent avec RSA, la taille du modulus RSA devrait être d'environ 3072 bits.\n",
    "\n",
    "7. *Décrire le principe du jeu IND-CPA pour l’évaluation de la sécurité d’un algorithme de chiffrement. En particulier, donner la définition de l’avantage et expliquer comment il permet de statuer sur la sécurité de l’algorithme.*  \n",
    "   Le jeu IND-CPA (Indistinguishability under Chosen Plaintext Attack) évalue la sécurité d'un algorithme de chiffrement en opposant un adversaire à un oracle de chiffrement. L'adversaire choisit deux textes clairs de même longueur, l'oracle renvoie le texte chiffré d'un de ces deux messages, et l'attaquant doit deviner lequel a été chiffré. L’avantage est défini comme la probabilité que l’attaquant réussisse à distinguer les deux textes choisis, supérieure à 0.5. Si cet avantage est significativement supérieur à 0.5, cela indique que l'algorithme est vulnérable aux attaques par texte clair choisi.\n",
    "\n",
    "8. *Donner deux exemples de modes d’opérations de chiffrement par blocs.*  \n",
    "   Deux exemples de modes d’opérations de chiffrement par blocs sont :  \n",
    "   - **Mode ECB (Electronic Codebook)** : Chaque bloc de texte clair est chiffré indépendamment.\n",
    "   - **Mode CBC (Cipher Block Chaining)** : Chaque bloc de texte clair est combiné avec le bloc chiffré précédent avant d'être chiffré, introduisant ainsi une dépendance entre les blocs.\n",
    "\n",
    "9. *Quelles sont les tailles de clé possibles pour la primitive bloc AES ? Pour chacune des tailles, donner le nombre de tours.*  \n",
    "   AES supporte trois tailles de clés :  \n",
    "   - **128 bits** : 10 tours  \n",
    "   - **192 bits** : 12 tours  \n",
    "   - **256 bits** : 14 tours  \n",
    "\n",
    "10. *Qu’est-ce que le protocole de Diffie-Hellman ? On ne demande pas de décrire mathématiquement le protocole mais d’en expliquer sommairement l’objectif et le principe.*  \n",
    "    Le protocole de Diffie-Hellman est un moyen d'établir une clé secrète partagée entre deux parties qui souhaitent communiquer de manière sécurisée. Son objectif est de permettre à ces parties de générer une clé commune sans avoir à échanger directement cette clé sur le réseau. Le principe repose sur l'utilisation de la difficulté du logarithme discret : chacune des parties choisit un nombre secret et les combine avec une valeur publique (généralement une base et un module), permettant ainsi de générer une clé commune qui est difficile à dériver par un tiers.\n",
    "\n",
    "11. *À quelle attaque s’expose-t-on si l’on utilise des clés publiques non certifiées dans un algorithme de chiffrement à clé publique ?*  \n",
    "    Si l'on utilise des clés publiques non certifiées, on s'expose à une attaque de type \"man-in-the-middle\". Un attaquant pourrait intercepter et remplacer les clés publiques échangées, ce qui lui permettrait de déchiffrer, modifier et ré-encrypter les messages entre les deux parties sans qu'elles ne s'en aperçoivent.\n",
    "\n",
    "12. *En quoi le mode d’opérations CTR fait-il penser au chiffrement par flot ?*  \n",
    "    Le mode d'opérations CTR (Counter Mode) fonctionne en générant un flux de clés de chiffrement à partir d'un compteur qui est incrémenté. Cela permet de chiffrer chaque bloc de texte clair avec un flux de clés qui se comporte de manière similaire au chiffrement par flot, où chaque bit ou bloc de texte clair est mélangé avec un bit ou bloc de clé, permettant ainsi de traiter les blocs de manière parallèle et d'atteindre une efficacité accrue.\n",
    "\n",
    "13. *Quel sera(it) l’impact de l’ordinateur quantique sur les algorithmes de chiffrement à clé secrète ? Pourquoi ?*  \n",
    "    L'ordinateur quantique pourrait théoriquement réduire le temps nécessaire pour casser des algorithmes de chiffrement à clé secrète, mais son impact serait moins significatif que sur les algorithmes de clé publique. En utilisant des algorithmes quantiques comme Grover, un ordinateur quantique pourrait réduire l'efficacité de recherche de clé de \\( 2^n \\) à \\( 2^{n/2} \\), ce qui rendrait les clés plus courtes en théorie vulnérables, mais cela nécessiterait toujours une taille de clé beaucoup plus grande pour rester sécurisé contre ces attaques.\n",
    "\n",
    "14. *En quoi consiste un protocole d’authentification par challenge-réponse ?*  \n",
    "    Un protocole d'authentification par challenge-réponse consiste à ce qu'une partie (le challengeur) envoie un défi (challenge) à une autre partie (le répondant), qui doit répondre avec une réponse prouvant son identité. Le défi est souvent un nonce (un nombre utilisé une seule fois) ou un identifiant, et la réponse est généralement un hash ou un code qui utilise un secret partagé, permettant au challengeur de vérifier l'authenticité du répondant sans qu'il ait besoin d'envoyer son mot de passe ou clé secrète.\n",
    "\n",
    "15. *Quelle construction faut-il adjoindre à la primitive RSA pour en faire un chiffrement randomisé ?*  \n",
    "    Pour transformer la primitive RSA en un chiffrement randomisé, on utilise un mécanisme d'ajout de bruit aléatoire lors du chiffrement. Cela se fait typiquement en ajoutant un nombre aléatoire \\( r \\) à chaque message avant le chiffrement, ce qui assure que le même message chiffré plusieurs fois produira des résultats différents. Cette construction est souvent réalisée à l'aide de l'algorithme de OAEP (Optimal Asymmetric Encryption Padding), qui combine le message avec un padding aléatoire pour renforcer la sécurité contre les attaques par analyse de texte chiffré."
   ]
  },
  {
   "cell_type": "markdown",
   "metadata": {},
   "source": [
    "## **Exercice 1**\n",
    "\n",
    "Sur feuille"
   ]
  },
  {
   "cell_type": "code",
   "execution_count": 4,
   "metadata": {},
   "outputs": [
    {
     "name": "stdout",
     "output_type": "stream",
     "text": [
      "Polynôme de rétroaction: 1 + T^1 + T^4 (coefficients: [1, 1, 0, 0])\n",
      "État initial: [1, 0, 1, 0]\n",
      "t:1  state: [0, 1, 0, 1]  output bit: 1\n",
      "t:2  state: [1, 0, 1, 1]  output bit: 0\n",
      "t:3  state: [0, 1, 1, 1]  output bit: 1\n",
      "t:4  state: [1, 1, 1, 1]  output bit: 0\n",
      "t:5  state: [1, 1, 1, 0]  output bit: 1\n",
      "\n",
      "Periode maximale theorique: 2^(dim_init) - 1 = 2^4 - 1\n",
      "\t=> 15\n"
     ]
    }
   ],
   "source": [
    "feedback_poly = [1, 1, 0, 0]  # T^4 + T^1 + 1\n",
    "initial_state = [1, 0, 1, 0]\n",
    "\n",
    "my_lfsr = LFSR(feedback_poly, initial_state)\n",
    "# my_lfsr.detect_period()\n",
    "my_lfsr.k_period(5)"
   ]
  },
  {
   "cell_type": "markdown",
   "metadata": {},
   "source": [
    "## **Exercice 2**\n",
    "\n",
    "Au cours du calcul d’un chiffrement AES, la valeur du tableau à l’entrée du tour est :  \n",
    "\n",
    "a0 7e 00 5b  \n",
    "5a b5 89 20  \n",
    "4f 05 a1 8f  \n",
    "98 65 0f 03  \n",
    "\n",
    "**1. Calculer la valeur du tableau après SubBytes...**"
   ]
  },
  {
   "cell_type": "code",
   "execution_count": 5,
   "metadata": {},
   "outputs": [
    {
     "name": "stdout",
     "output_type": "stream",
     "text": [
      "State after SubBytes (4x4):\n",
      "e0 f3 63 39 \n",
      "be d5 a7 b7 \n",
      "84 6b 32 73 \n",
      "46 4d 76 7b \n",
      "\n"
     ]
    }
   ],
   "source": [
    "import ctypes\n",
    "\n",
    "state = (ctypes.c_uint8 * 16)(\n",
    "    0xa0, 0x7e, 0x00, 0x5b, \n",
    "    0x5a, 0xb5, 0x89, 0x20, \n",
    "    0x4f, 0x05, 0xa1, 0x8f, \n",
    "    0x98, 0x65, 0x0f, 0x03\n",
    ")\n",
    "\n",
    "my_aes = AES()\n",
    "my_aes.sub_bytes(state)"
   ]
  },
  {
   "cell_type": "markdown",
   "metadata": {},
   "source": [
    "**2. Puis après ShiftRows...**"
   ]
  },
  {
   "cell_type": "code",
   "execution_count": 6,
   "metadata": {},
   "outputs": [
    {
     "name": "stdout",
     "output_type": "stream",
     "text": [
      "State after ShiftRows (4x4):\n",
      "e0 f3 63 39 \n",
      "d5 a7 b7 be \n",
      "32 73 84 6b \n",
      "7b 46 4d 76 \n",
      "\n"
     ]
    }
   ],
   "source": [
    "state_after_sub_bytes = (ctypes.c_uint8 * 16)(\n",
    "    0xe0, 0xf3, 0x63, 0x39, \n",
    "    0xbe, 0xd5, 0xa7, 0xb7, \n",
    "    0x84, 0x6b, 0x32, 0x73, \n",
    "    0x46, 0x4d, 0x76, 0x7b\n",
    ")\n",
    "\n",
    "my_aes.shift_rows(state_after_sub_bytes)"
   ]
  },
  {
   "cell_type": "markdown",
   "metadata": {},
   "source": [
    "**2. Puis après MixColumns.**"
   ]
  },
  {
   "cell_type": "code",
   "execution_count": 7,
   "metadata": {},
   "outputs": [
    {
     "name": "stdout",
     "output_type": "stream",
     "text": [
      "State after MixColumns (4x4):\n",
      "f6 3a cd b6 \n",
      "7c 75 cc 95 \n",
      "dc 78 10 cb \n",
      "2a 56 0c 72 \n",
      "\n"
     ]
    }
   ],
   "source": [
    "state_after_shift_rows = (ctypes.c_uint8 * 16)(\n",
    "    0xe0, 0xf3, 0x63, 0x39, \n",
    "    0xd5, 0xa7, 0xb7, 0xbe, \n",
    "    0x32, 0x73, 0x84, 0x6b, \n",
    "    0x7b, 0x46, 0x4d, 0x76\n",
    ")\n",
    "\n",
    "my_aes.mix_columns(state_after_shift_rows)"
   ]
  },
  {
   "cell_type": "markdown",
   "metadata": {},
   "source": [
    "## **Exercice 3**\n",
    "\n",
    "On considère un chiffrement RSA avec le module n = 4331, et l’exposant public e = 59.  \n",
    "\n",
    "**1. Calculer le chiffré c1 du message clair m1 = 3158.**"
   ]
  },
  {
   "cell_type": "code",
   "execution_count": 8,
   "metadata": {},
   "outputs": [
    {
     "name": "stdout",
     "output_type": "stream",
     "text": [
      "\n",
      "c = m^e mod n\n",
      "\n",
      "Square and Multiply: 3158 ^ 59 mod 4331\n",
      "\tbin(59) = 111011\n",
      "\t0: Square: (1 * 1) % 4331 = 1\n",
      "\t   Multiply: (1 * 3158) % 4331 = 3158\n",
      "\t1: Square: (3158 * 3158) % 4331 = 3002\n",
      "\t   Multiply: (3002 * 3158) % 4331 = 4088\n",
      "\t2: Square: (4088 * 4088) % 4331 = 2746\n",
      "\t   Multiply: (2746 * 3158) % 4331 = 1206\n",
      "\t3: Square: (1206 * 1206) % 4331 = 3551\n",
      "\t   Pas de multiplication bit = 0\n",
      "\t4: Square: (3551 * 3551) % 4331 = 2060\n",
      "\t   Multiply: (2060 * 3158) % 4331 = 318\n",
      "\t5: Square: (318 * 318) % 4331 = 1511\n",
      "\t   Multiply: (1511 * 3158) % 4331 = 3307\n",
      "\n",
      "\t=> 3158 ^ 59 mod 4331 = 3307\n"
     ]
    }
   ],
   "source": [
    "my_rsa = RSA(n=4331, e=59)\n",
    "c1 = my_rsa.encrypt(m=3158)"
   ]
  },
  {
   "cell_type": "markdown",
   "metadata": {},
   "source": [
    "**2. Vérifier que p = 61 est un facteur de n. En déduire la valeur de ϕ(n).**"
   ]
  },
  {
   "cell_type": "code",
   "execution_count": 9,
   "metadata": {},
   "outputs": [
    {
     "name": "stdout",
     "output_type": "stream",
     "text": [
      "\n",
      "61 est un facteur de 4331 car n % p == 0\n",
      "q = n / p = 71\n",
      "\n",
      "ϕ(n) = (p - 1) * (q - 1)\n",
      "Calcul de ϕ(n) : (p-1) * (q-1) = (61-1) * (71-1) = 4200\n",
      "ϕ(n) = 4200\n"
     ]
    }
   ],
   "source": [
    "my_rsa.check_factor_p(61)\n",
    "my_rsa.found_phi_n()"
   ]
  },
  {
   "cell_type": "markdown",
   "metadata": {},
   "source": [
    "**3. Calculer la valeur de l’exposant de d´echiffrement d.**"
   ]
  },
  {
   "cell_type": "code",
   "execution_count": 10,
   "metadata": {},
   "outputs": [
    {
     "name": "stdout",
     "output_type": "stream",
     "text": [
      "\n",
      "Début du calcul de d (appelé \"a\" par la suite) tel que d * e ≡ 1 (mod ϕ(n)) :\n",
      "\n",
      "Euclide étendu: a * 59 = 1 mod 4200\n",
      "\n",
      "PGCD(59, 4200):\n",
      "\t59 = 0 * 4200 + 59\n",
      "\t4200 = 71 * 59 + 11\n",
      "\t59 = 5 * 11 + 4\n",
      "\t11 = 2 * 4 + 3\n",
      "\t4 = 1 * 3 + 1\n",
      "\t3 = 3 * 1 + 0\n",
      "\n",
      "\t=> PGCD = 1\n",
      "\n",
      "Remontée avec Euclide étendu:\n",
      "\tOn part de 1 = 4 - 1 * 3\n",
      "\t1 = 1139 * 59 + -783 * 4200\n",
      "\n",
      "=> 1 = 1139 * 59 + -783 * 4200 (mod 4200) donc a = 1139\n"
     ]
    }
   ],
   "source": [
    "my_rsa.found_d()"
   ]
  },
  {
   "cell_type": "markdown",
   "metadata": {},
   "source": [
    "**4. Calculer le message clair m2 correspondant au chiffrée c2 = 167.**"
   ]
  },
  {
   "cell_type": "code",
   "execution_count": 11,
   "metadata": {},
   "outputs": [
    {
     "name": "stdout",
     "output_type": "stream",
     "text": [
      "\n",
      "m = c^d mod n\n",
      "\n",
      "Square and Multiply: 167 ^ 1139 mod 4331\n",
      "\tbin(1139) = 10001110011\n",
      "\t0: Square: (1 * 1) % 4331 = 1\n",
      "\t   Multiply: (1 * 167) % 4331 = 167\n",
      "\t1: Square: (167 * 167) % 4331 = 1903\n",
      "\t   Pas de multiplication bit = 0\n",
      "\t2: Square: (1903 * 1903) % 4331 = 693\n",
      "\t   Pas de multiplication bit = 0\n",
      "\t3: Square: (693 * 693) % 4331 = 3839\n",
      "\t   Pas de multiplication bit = 0\n",
      "\t4: Square: (3839 * 3839) % 4331 = 3859\n",
      "\t   Multiply: (3859 * 167) % 4331 = 3465\n",
      "\t5: Square: (3465 * 3465) % 4331 = 693\n",
      "\t   Multiply: (693 * 167) % 4331 = 3125\n",
      "\t6: Square: (3125 * 3125) % 4331 = 3551\n",
      "\t   Multiply: (3551 * 167) % 4331 = 4001\n",
      "\t7: Square: (4001 * 4001) % 4331 = 625\n",
      "\t   Pas de multiplication bit = 0\n",
      "\t8: Square: (625 * 625) % 4331 = 835\n",
      "\t   Pas de multiplication bit = 0\n",
      "\t9: Square: (835 * 835) % 4331 = 4265\n",
      "\t   Multiply: (4265 * 167) % 4331 = 1971\n",
      "\t10: Square: (1971 * 1971) % 4331 = 4265\n",
      "\t   Multiply: (4265 * 167) % 4331 = 1971\n",
      "\n",
      "\t=> 167 ^ 1139 mod 4331 = 1971\n",
      "\n",
      "m = c^d mod n\n",
      "\n",
      "Square and Multiply: 3307 ^ 1139 mod 4331\n",
      "\tbin(1139) = 10001110011\n",
      "\t0: Square: (1 * 1) % 4331 = 1\n",
      "\t   Multiply: (1 * 3307) % 4331 = 3307\n",
      "\t1: Square: (3307 * 3307) % 4331 = 474\n",
      "\t   Pas de multiplication bit = 0\n",
      "\t2: Square: (474 * 474) % 4331 = 3795\n",
      "\t   Pas de multiplication bit = 0\n",
      "\t3: Square: (3795 * 3795) % 4331 = 1450\n",
      "\t   Pas de multiplication bit = 0\n",
      "\t4: Square: (1450 * 1450) % 4331 = 1965\n",
      "\t   Multiply: (1965 * 3307) % 4331 = 1755\n",
      "\t5: Square: (1755 * 1755) % 4331 = 684\n",
      "\t   Multiply: (684 * 3307) % 4331 = 1206\n",
      "\t6: Square: (1206 * 1206) % 4331 = 3551\n",
      "\t   Multiply: (3551 * 3307) % 4331 = 1816\n",
      "\t7: Square: (1816 * 1816) % 4331 = 1965\n",
      "\t   Pas de multiplication bit = 0\n",
      "\t8: Square: (1965 * 1965) % 4331 = 2304\n",
      "\t   Pas de multiplication bit = 0\n",
      "\t9: Square: (2304 * 2304) % 4331 = 2941\n",
      "\t   Multiply: (2941 * 3307) % 4331 = 2792\n",
      "\t10: Square: (2792 * 2792) % 4331 = 3795\n",
      "\t   Multiply: (3795 * 3307) % 4331 = 3158\n",
      "\n",
      "\t=> 3307 ^ 1139 mod 4331 = 3158\n"
     ]
    }
   ],
   "source": [
    "my_rsa = RSA(n=4331, e=59, d=1139, p=61, q=71)\n",
    "c = my_rsa.decrypt(167)\n",
    "c = my_rsa.decrypt(3307) # Pour vérifier"
   ]
  },
  {
   "cell_type": "markdown",
   "metadata": {},
   "source": [
    "## **Exercice 4**\n",
    "\n",
    "On se place dans le groupe multiplicatif (Z/101Z)∗ = {1, 2, . . . , 100} des entiers non nuls modulo 101.  \n",
    "\n",
    "**1. On admet que 7 est un g´en´erateur. Que cela signifie-t-il ?**"
   ]
  },
  {
   "cell_type": "code",
   "execution_count": 12,
   "metadata": {},
   "outputs": [
    {
     "name": "stdout",
     "output_type": "stream",
     "text": [
      "\n",
      "7 est un générateur de l'ensemble multiplicatif modulo 101 ?\n",
      "Le groupe a un ordre de 100. Nous devons vérifier si les puissances de 7 couvrent tous les entiers de 1 à 100 modulo 101\n",
      "\t1: 7^1 mod 101 = 7\n",
      "\t2: 7^2 mod 101 = 49\n",
      "\t3: 7^3 mod 101 = 40\n",
      "\t4: 7^4 mod 101 = 78\n",
      "\t5: 7^5 mod 101 = 41\n",
      "\t6: 7^6 mod 101 = 85\n",
      "\t7: 7^7 mod 101 = 90\n",
      "\t8: 7^8 mod 101 = 24\n",
      "\t9: 7^9 mod 101 = 67\n",
      "\t10: 7^10 mod 101 = 65\n",
      "\t11: 7^11 mod 101 = 51\n",
      "\t12: 7^12 mod 101 = 54\n",
      "\t13: 7^13 mod 101 = 75\n",
      "\t14: 7^14 mod 101 = 20\n",
      "\t15: 7^15 mod 101 = 39\n",
      "\t16: 7^16 mod 101 = 71\n",
      "\t17: 7^17 mod 101 = 93\n",
      "\t18: 7^18 mod 101 = 45\n",
      "\t19: 7^19 mod 101 = 12\n",
      "\t20: 7^20 mod 101 = 84\n",
      "\t21: 7^21 mod 101 = 83\n",
      "\t22: 7^22 mod 101 = 76\n",
      "\t23: 7^23 mod 101 = 27\n",
      "\t24: 7^24 mod 101 = 88\n",
      "\t25: 7^25 mod 101 = 10\n",
      "\t26: 7^26 mod 101 = 70\n",
      "\t27: 7^27 mod 101 = 86\n",
      "\t28: 7^28 mod 101 = 97\n",
      "\t29: 7^29 mod 101 = 73\n",
      "\t30: 7^30 mod 101 = 6\n",
      "\t31: 7^31 mod 101 = 42\n",
      "\t32: 7^32 mod 101 = 92\n",
      "\t33: 7^33 mod 101 = 38\n",
      "\t34: 7^34 mod 101 = 64\n",
      "\t35: 7^35 mod 101 = 44\n",
      "\t36: 7^36 mod 101 = 5\n",
      "\t37: 7^37 mod 101 = 35\n",
      "\t38: 7^38 mod 101 = 43\n",
      "\t39: 7^39 mod 101 = 99\n",
      "\t40: 7^40 mod 101 = 87\n",
      "\t41: 7^41 mod 101 = 3\n",
      "\t42: 7^42 mod 101 = 21\n",
      "\t43: 7^43 mod 101 = 46\n",
      "\t44: 7^44 mod 101 = 19\n",
      "\t45: 7^45 mod 101 = 32\n",
      "\t46: 7^46 mod 101 = 22\n",
      "\t47: 7^47 mod 101 = 53\n",
      "\t48: 7^48 mod 101 = 68\n",
      "\t49: 7^49 mod 101 = 72\n",
      "\t50: 7^50 mod 101 = 100\n",
      "\t51: 7^51 mod 101 = 94\n",
      "\t52: 7^52 mod 101 = 52\n",
      "\t53: 7^53 mod 101 = 61\n",
      "\t54: 7^54 mod 101 = 23\n",
      "\t55: 7^55 mod 101 = 60\n",
      "\t56: 7^56 mod 101 = 16\n",
      "\t57: 7^57 mod 101 = 11\n",
      "\t58: 7^58 mod 101 = 77\n",
      "\t59: 7^59 mod 101 = 34\n",
      "\t60: 7^60 mod 101 = 36\n",
      "\t61: 7^61 mod 101 = 50\n",
      "\t62: 7^62 mod 101 = 47\n",
      "\t63: 7^63 mod 101 = 26\n",
      "\t64: 7^64 mod 101 = 81\n",
      "\t65: 7^65 mod 101 = 62\n",
      "\t66: 7^66 mod 101 = 30\n",
      "\t67: 7^67 mod 101 = 8\n",
      "\t68: 7^68 mod 101 = 56\n",
      "\t69: 7^69 mod 101 = 89\n",
      "\t70: 7^70 mod 101 = 17\n",
      "\t71: 7^71 mod 101 = 18\n",
      "\t72: 7^72 mod 101 = 25\n",
      "\t73: 7^73 mod 101 = 74\n",
      "\t74: 7^74 mod 101 = 13\n",
      "\t75: 7^75 mod 101 = 91\n",
      "\t76: 7^76 mod 101 = 31\n",
      "\t77: 7^77 mod 101 = 15\n",
      "\t78: 7^78 mod 101 = 4\n",
      "\t79: 7^79 mod 101 = 28\n",
      "\t80: 7^80 mod 101 = 95\n",
      "\t81: 7^81 mod 101 = 59\n",
      "\t82: 7^82 mod 101 = 9\n",
      "\t83: 7^83 mod 101 = 63\n",
      "\t84: 7^84 mod 101 = 37\n",
      "\t85: 7^85 mod 101 = 57\n",
      "\t86: 7^86 mod 101 = 96\n",
      "\t87: 7^87 mod 101 = 66\n",
      "\t88: 7^88 mod 101 = 58\n",
      "\t89: 7^89 mod 101 = 2\n",
      "\t90: 7^90 mod 101 = 14\n",
      "\t91: 7^91 mod 101 = 98\n",
      "\t92: 7^92 mod 101 = 80\n",
      "\t93: 7^93 mod 101 = 55\n",
      "\t94: 7^94 mod 101 = 82\n",
      "\t95: 7^95 mod 101 = 69\n",
      "\t96: 7^96 mod 101 = 79\n",
      "\t97: 7^97 mod 101 = 48\n",
      "\t98: 7^98 mod 101 = 33\n",
      "\t99: 7^99 mod 101 = 29\n",
      "\t100: 7^100 mod 101 = 1\n",
      "\n",
      "\t=> 7 est un générateur car toutes les valeurs de 1 à 100 sont atteintes.\n"
     ]
    }
   ],
   "source": [
    "compute = BASIC_COMPUTE()\n",
    "r = compute.is_generator(101-1, 7)"
   ]
  },
  {
   "cell_type": "markdown",
   "metadata": {},
   "source": [
    "**2. Calculer le logarithme discret de 23 en base 7 modulo 101 par la méthode pas de bébé-pas de géant.**"
   ]
  },
  {
   "cell_type": "code",
   "execution_count": 14,
   "metadata": {},
   "outputs": [
    {
     "name": "stdout",
     "output_type": "stream",
     "text": [
      "\n",
      "Calcul du logarithme discret de 23 en base 7 modulo 101 :\n",
      "\n",
      "Étape 1: \n",
      "\tm = ⌊√100⌋ = 10\n",
      "\n",
      "Étape 2: Calculer les étapes \"baby\" : a^j mod n\n",
      "\tBaby step: a^0 mod 101 = 1\n",
      "\tBaby step: a^1 mod 101 = 7\n",
      "\tBaby step: a^2 mod 101 = 49\n",
      "\tBaby step: a^3 mod 101 = 40\n",
      "\tBaby step: a^4 mod 101 = 78\n",
      "\tBaby step: a^5 mod 101 = 41\n",
      "\tBaby step: a^6 mod 101 = 85\n",
      "\tBaby step: a^7 mod 101 = 90\n",
      "\tBaby step: a^8 mod 101 = 24\n",
      "\tBaby step: a^9 mod 101 = 67\n",
      "\t=> [(1, 0), (7, 1), (24, 8), (40, 3), (41, 5), (49, 2), (67, 9), (78, 4), (85, 6), (90, 7)]\n",
      "\n",
      "Étape 3 : Calculer a^(-m) mod n\n",
      "\n",
      "Euclide étendu: a * 7 = 1 mod 101\n",
      "\n",
      "PGCD(7, 101):\n",
      "\t7 = 0 * 101 + 7\n",
      "\t101 = 14 * 7 + 3\n",
      "\t7 = 2 * 3 + 1\n",
      "\t3 = 3 * 1 + 0\n",
      "\n",
      "\t=> PGCD = 1\n",
      "\n",
      "Remontée avec Euclide étendu:\n",
      "\tOn part de 1 = 7 - 2 * 3\n",
      "\t1 = 29 * 7 + -14 * 101\n",
      "\n",
      "=> 1 = 29 * 7 + -14 * 101 (mod 101) donc a = 29\n",
      "\n",
      "Modular Exponentiation: 29 ^ 10 mod 101\n",
      "\t1: (1 * 29) % 101 = 29\n",
      "\t2: (29 * 29) % 101 = 33\n",
      "\t3: (33 * 29) % 101 = 48\n",
      "\t4: (48 * 29) % 101 = 79\n",
      "\t5: (79 * 29) % 101 = 69\n",
      "\t6: (69 * 29) % 101 = 82\n",
      "\t7: (82 * 29) % 101 = 55\n",
      "\t8: (55 * 29) % 101 = 80\n",
      "\t9: (80 * 29) % 101 = 98\n",
      "\t10: (98 * 29) % 101 = 14\n",
      "\n",
      "\t=> 29 ^ 10 mod 101 = 14\n",
      "\t=> a^(-m) mod 101 = 14\n",
      "\n",
      "Étape 4 : Calculer les étapes \"giant\"\n",
      "\t0: Giant step = 23\n",
      "\t   23 n'est pas trouvé dans les baby steps. On passe à l'étape suivante.\n",
      "\t   On calcule le nouveau giant_step_value = (23 * 14) % 101 = 19\n",
      "\t1: Giant step = 19\n",
      "\t   19 n'est pas trouvé dans les baby steps. On passe à l'étape suivante.\n",
      "\t   On calcule le nouveau giant_step_value = (19 * 14) % 101 = 64\n",
      "\t2: Giant step = 64\n",
      "\t   64 n'est pas trouvé dans les baby steps. On passe à l'étape suivante.\n",
      "\t   On calcule le nouveau giant_step_value = (64 * 14) % 101 = 88\n",
      "\t3: Giant step = 88\n",
      "\t   88 n'est pas trouvé dans les baby steps. On passe à l'étape suivante.\n",
      "\t   On calcule le nouveau giant_step_value = (88 * 14) % 101 = 20\n",
      "\t4: Giant step = 20\n",
      "\t   20 n'est pas trouvé dans les baby steps. On passe à l'étape suivante.\n",
      "\t   On calcule le nouveau giant_step_value = (20 * 14) % 101 = 78\n",
      "\t5: Giant step = 78\n",
      "\t   On a trouvé 78 à l'étape 5 !\n",
      "\n",
      "\t=> Logarithme discret : x = 5 * 10 + 4 = 54\n"
     ]
    }
   ],
   "source": [
    "r = compute.discrete_logarithm(7, 23, 101, 100)"
   ]
  }
 ],
 "metadata": {
  "kernelspec": {
   "display_name": "Python 3",
   "language": "python",
   "name": "python3"
  },
  "language_info": {
   "codemirror_mode": {
    "name": "ipython",
    "version": 3
   },
   "file_extension": ".py",
   "mimetype": "text/x-python",
   "name": "python",
   "nbconvert_exporter": "python",
   "pygments_lexer": "ipython3",
   "version": "3.12.6"
  }
 },
 "nbformat": 4,
 "nbformat_minor": 2
}
