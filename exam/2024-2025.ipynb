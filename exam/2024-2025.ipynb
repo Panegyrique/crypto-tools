{
 "cells": [
  {
   "cell_type": "markdown",
   "metadata": {},
   "source": [
    "# **Examen 2024-2025**"
   ]
  },
  {
   "cell_type": "code",
   "execution_count": 1,
   "metadata": {},
   "outputs": [],
   "source": [
    "import sys\n",
    "import os\n",
    "from pathlib import Path\n",
    "current_dir = Path(os.getcwd())\n",
    "parent_dir = current_dir.parent\n",
    "sys.path.append(str(parent_dir))\n",
    "\n",
    "from algorithm import AES, CESAR, DIFFIE_HELLMANN, ECC, ELGAMAL, RSA, VIGENERE\n",
    "from compute import BASIC_COMPUTE, LFSR"
   ]
  },
  {
   "cell_type": "markdown",
   "metadata": {},
   "source": [
    "## **Exercice 1**\n",
    "\n",
    "1. Chiffrement de César avec k = 3"
   ]
  },
  {
   "cell_type": "code",
   "execution_count": 2,
   "metadata": {},
   "outputs": [
    {
     "name": "stdout",
     "output_type": "stream",
     "text": [
      "Message en clair : E.T telephone maison\n",
      "Message chiffré avec pour cle 3 (valeur du décalage) : h.w whohskrqh pdlvrq\n"
     ]
    }
   ],
   "source": [
    "my_cesar = CESAR(k=3)\n",
    "_ = my_cesar.encrypt(m=\"E.T telephone maison\")"
   ]
  },
  {
   "cell_type": "markdown",
   "metadata": {},
   "source": [
    "2. Chiffrement de Vigenère avec k=\"BRAVE\""
   ]
  },
  {
   "cell_type": "code",
   "execution_count": 3,
   "metadata": {},
   "outputs": [
    {
     "name": "stdout",
     "output_type": "stream",
     "text": [
      "Message en clair : E.T telephone maison\n",
      "Message chiffré avec pour cle \"brave\" : f.k tzpfghjrf dadwpe\n"
     ]
    }
   ],
   "source": [
    "my_vigenere = VIGENERE(k=\"BRAVE\")\n",
    "_ = my_vigenere.encrypt(m=\"E.T telephone maison\")"
   ]
  },
  {
   "cell_type": "markdown",
   "metadata": {},
   "source": [
    "## **Exercice 2**\n",
    "\n",
    "Au cours du calcul d’un chiffrement AES, la valeur du tableau à l’entrée du tour est :  \n",
    "\n",
    "e0 c8 d9 85  \n",
    "92 63 b1 b8  \n",
    "7f 63 35 be  \n",
    "e8 c0 50 01  \n",
    "\n",
    "**1. Calculer la valeur du tableau après SubBytes...**"
   ]
  },
  {
   "cell_type": "code",
   "execution_count": 4,
   "metadata": {},
   "outputs": [
    {
     "name": "stdout",
     "output_type": "stream",
     "text": [
      "State after SubBytes (4x4):\n",
      "e1 e8 35 97 \n",
      "4f fb c8 6c \n",
      "d2 fb 96 ae \n",
      "9b ba 53 7c \n",
      "\n"
     ]
    }
   ],
   "source": [
    "import ctypes\n",
    "\n",
    "state = (ctypes.c_uint8 * 16)(\n",
    "    0xe0, 0xc8, 0xd9, 0x85, \n",
    "    0x92, 0x63, 0xb1, 0xb8, \n",
    "    0x7f, 0x63, 0x35, 0xbe, \n",
    "    0xe8, 0xc0, 0x50, 0x01\n",
    ")\n",
    "\n",
    "my_aes = AES()\n",
    "my_aes.sub_bytes(state)"
   ]
  },
  {
   "cell_type": "markdown",
   "metadata": {},
   "source": [
    "**2. Puis après ShiftRows...**"
   ]
  },
  {
   "cell_type": "code",
   "execution_count": 5,
   "metadata": {},
   "outputs": [
    {
     "name": "stdout",
     "output_type": "stream",
     "text": [
      "State after ShiftRows (4x4):\n",
      "e1 e8 35 97 \n",
      "fb c8 6c 4f \n",
      "96 ae d2 fb \n",
      "7c 9b ba 53 \n",
      "\n"
     ]
    }
   ],
   "source": [
    "state_after_sub_bytes = (ctypes.c_uint8 * 16)(\n",
    "    0xe1, 0xe8, 0x35, 0x97, \n",
    "    0x4f, 0xfb, 0xc8, 0x6c, \n",
    "    0xd2, 0xfb, 0x96, 0xae, \n",
    "    0x9b, 0xba, 0x53, 0x7c\n",
    ")\n",
    "\n",
    "my_aes.shift_rows(state_after_sub_bytes)"
   ]
  },
  {
   "cell_type": "markdown",
   "metadata": {},
   "source": [
    "**3. Détails des calculs sur feuille**  \n",
    "\n",
    "**4. Puis après MixColumns.**"
   ]
  },
  {
   "cell_type": "code",
   "execution_count": 6,
   "metadata": {},
   "outputs": [
    {
     "name": "stdout",
     "output_type": "stream",
     "text": [
      "State after MixColumns (4x4):\n",
      "25 bd b6 4c \n",
      "d1 11 3a 4c \n",
      "a9 d1 33 c0 \n",
      "ad 68 8e b0 \n",
      "\n"
     ]
    }
   ],
   "source": [
    "state_after_shift_rows = (ctypes.c_uint8 * 16)(\n",
    "    0xe1, 0xe8, 0x35, 0x97, \n",
    "    0xfb, 0xc8, 0x6c, 0x4f, \n",
    "    0x96, 0xae, 0xd2, 0xfb, \n",
    "    0x7c, 0x9b, 0xba, 0x53\n",
    ")\n",
    "\n",
    "my_aes.mix_columns(state_after_shift_rows)"
   ]
  },
  {
   "cell_type": "markdown",
   "metadata": {},
   "source": [
    "## **Exercice 3**\n",
    "\n",
    "On considère un chiffrement RSA avec le module n = 493, et l’exposant public e = 33.  \n",
    "\n",
    "**1. Calculer le chiffré c1 du message clair m1 = 110.**"
   ]
  },
  {
   "cell_type": "code",
   "execution_count": 7,
   "metadata": {},
   "outputs": [
    {
     "name": "stdout",
     "output_type": "stream",
     "text": [
      "\n",
      "c = m^e mod n\n",
      "\n",
      "Square and Multiply: 681 ^ 17 mod 1537\n",
      "\tbin(17) = 10001\n",
      "\t0: Square: (1 * 1) % 1537 = 1\n",
      "\t   Multiply: (1 * 681) % 1537 = 681\n",
      "\t1: Square: (681 * 681) % 1537 = 1124\n",
      "\t   Pas de multiplication bit = 0\n",
      "\t2: Square: (1124 * 1124) % 1537 = 1499\n",
      "\t   Pas de multiplication bit = 0\n",
      "\t3: Square: (1499 * 1499) % 1537 = 1444\n",
      "\t   Pas de multiplication bit = 0\n",
      "\t4: Square: (1444 * 1444) % 1537 = 964\n",
      "\t   Multiply: (964 * 681) % 1537 = 185\n",
      "\n",
      "\t=> 681 ^ 17 mod 1537 = 185\n"
     ]
    }
   ],
   "source": [
    "my_rsa = RSA(n=1537, e=17)\n",
    "c1 = my_rsa.encrypt(m=681)"
   ]
  },
  {
   "cell_type": "markdown",
   "metadata": {},
   "source": [
    "**2. Vérifier que p = 17 est un facteur de n. En déduire la valeur de ϕ(n).**"
   ]
  },
  {
   "cell_type": "code",
   "execution_count": 8,
   "metadata": {},
   "outputs": [
    {
     "name": "stdout",
     "output_type": "stream",
     "text": [
      "\n",
      "29 est un facteur de 1537 car n % p == 0\n",
      "q = n / p = 53\n",
      "\n",
      "ϕ(n) = (p - 1) * (q - 1)\n",
      "Calcul de ϕ(n) : (p-1) * (q-1) = (29-1) * (53-1) = 1456\n",
      "ϕ(n) = 1456\n"
     ]
    }
   ],
   "source": [
    "my_rsa.check_factor_p(p=29)\n",
    "my_rsa.found_phi_n()"
   ]
  },
  {
   "cell_type": "markdown",
   "metadata": {},
   "source": [
    "**3. Calculer la valeur de l’exposant de déchiffrement d. On pourra procéder par recherche exhaustive ou par recherche d’une identité de Bezout à l’aide de l’algorithme d’Euclide étendu.**"
   ]
  },
  {
   "cell_type": "code",
   "execution_count": 9,
   "metadata": {},
   "outputs": [
    {
     "name": "stdout",
     "output_type": "stream",
     "text": [
      "\n",
      "Début du calcul de d (appelé \"a\" par la suite) tel que d * e ≡ 1 (mod ϕ(n)) :\n",
      "\n",
      "Euclide étendu: a * 17 = 1 mod 1456\n",
      "\n",
      "PGCD(17, 1456):\n",
      "\t17 = 0 * 1456 + 17\n",
      "\t1456 = 85 * 17 + 11\n",
      "\t17 = 1 * 11 + 6\n",
      "\t11 = 1 * 6 + 5\n",
      "\t6 = 1 * 5 + 1\n",
      "\t5 = 5 * 1 + 0\n",
      "\n",
      "\t=> PGCD = 1\n",
      "\n",
      "Remontée avec Euclide étendu:\n",
      "\tOn part de 1 = 6 - 1 * 5\n",
      "\t1 = 257 * 17 + -171 * 1456\n",
      "\n",
      "=> 1 = 257 * 17 + -171 * 1456 (mod 1456) donc a = 257\n"
     ]
    }
   ],
   "source": [
    "my_rsa.found_d()"
   ]
  },
  {
   "cell_type": "markdown",
   "metadata": {},
   "source": [
    "**4. Calculer le message clair m2 correspondant au chiffrée c2 = 335.**"
   ]
  },
  {
   "cell_type": "code",
   "execution_count": 10,
   "metadata": {},
   "outputs": [
    {
     "name": "stdout",
     "output_type": "stream",
     "text": [
      "\n",
      "m = c^d mod n\n",
      "\n",
      "Square and Multiply: 335 ^ 257 mod 1537\n",
      "\tbin(257) = 100000001\n",
      "\t0: Square: (1 * 1) % 1537 = 1\n",
      "\t   Multiply: (1 * 335) % 1537 = 335\n",
      "\t1: Square: (335 * 335) % 1537 = 24\n",
      "\t   Pas de multiplication bit = 0\n",
      "\t2: Square: (24 * 24) % 1537 = 576\n",
      "\t   Pas de multiplication bit = 0\n",
      "\t3: Square: (576 * 576) % 1537 = 1321\n",
      "\t   Pas de multiplication bit = 0\n",
      "\t4: Square: (1321 * 1321) % 1537 = 546\n",
      "\t   Pas de multiplication bit = 0\n",
      "\t5: Square: (546 * 546) % 1537 = 1475\n",
      "\t   Pas de multiplication bit = 0\n",
      "\t6: Square: (1475 * 1475) % 1537 = 770\n",
      "\t   Pas de multiplication bit = 0\n",
      "\t7: Square: (770 * 770) % 1537 = 1155\n",
      "\t   Pas de multiplication bit = 0\n",
      "\t8: Square: (1155 * 1155) % 1537 = 1446\n",
      "\t   Multiply: (1446 * 335) % 1537 = 255\n",
      "\n",
      "\t=> 335 ^ 257 mod 1537 = 255\n",
      "\n",
      "m = c^d mod n\n",
      "\n",
      "Square and Multiply: 185 ^ 257 mod 1537\n",
      "\tbin(257) = 100000001\n",
      "\t0: Square: (1 * 1) % 1537 = 1\n",
      "\t   Multiply: (1 * 185) % 1537 = 185\n",
      "\t1: Square: (185 * 185) % 1537 = 411\n",
      "\t   Pas de multiplication bit = 0\n",
      "\t2: Square: (411 * 411) % 1537 = 1388\n",
      "\t   Pas de multiplication bit = 0\n",
      "\t3: Square: (1388 * 1388) % 1537 = 683\n",
      "\t   Pas de multiplication bit = 0\n",
      "\t4: Square: (683 * 683) % 1537 = 778\n",
      "\t   Pas de multiplication bit = 0\n",
      "\t5: Square: (778 * 778) % 1537 = 1243\n",
      "\t   Pas de multiplication bit = 0\n",
      "\t6: Square: (1243 * 1243) % 1537 = 364\n",
      "\t   Pas de multiplication bit = 0\n",
      "\t7: Square: (364 * 364) % 1537 = 314\n",
      "\t   Pas de multiplication bit = 0\n",
      "\t8: Square: (314 * 314) % 1537 = 228\n",
      "\t   Multiply: (228 * 185) % 1537 = 681\n",
      "\n",
      "\t=> 185 ^ 257 mod 1537 = 681\n"
     ]
    }
   ],
   "source": [
    "my_rsa = RSA(n=1537, e=17, d=257, p=29, q=53)\n",
    "c = my_rsa.decrypt(335)\n",
    "c = my_rsa.decrypt(185) # Pour vérifier"
   ]
  },
  {
   "cell_type": "markdown",
   "metadata": {},
   "source": [
    "## **Exercice 4**\n",
    "\n",
    "On se place dans le groupe multiplicatif (Z/53Z)∗ = {1, 2, . . . , 52} des entiers non nuls modulo 53.  \n",
    "\n",
    "**1. On admet que 3 est un générateur. Que cela signifie-t-il ?**"
   ]
  },
  {
   "cell_type": "code",
   "execution_count": 11,
   "metadata": {},
   "outputs": [
    {
     "name": "stdout",
     "output_type": "stream",
     "text": [
      "\n",
      "3 est un générateur de l'ensemble multiplicatif modulo 53 ?\n",
      "Le groupe a un ordre de 52. Nous devons vérifier si les puissances de 3 couvrent tous les entiers de 1 à 52 modulo 53\n",
      "\t1: 3^1 mod 53 = 3\n",
      "\t2: 3^2 mod 53 = 9\n",
      "\t3: 3^3 mod 53 = 27\n",
      "\t4: 3^4 mod 53 = 28\n",
      "\t5: 3^5 mod 53 = 31\n",
      "\t6: 3^6 mod 53 = 40\n",
      "\t7: 3^7 mod 53 = 14\n",
      "\t8: 3^8 mod 53 = 42\n",
      "\t9: 3^9 mod 53 = 20\n",
      "\t10: 3^10 mod 53 = 7\n",
      "\t11: 3^11 mod 53 = 21\n",
      "\t12: 3^12 mod 53 = 10\n",
      "\t13: 3^13 mod 53 = 30\n",
      "\t14: 3^14 mod 53 = 37\n",
      "\t15: 3^15 mod 53 = 5\n",
      "\t16: 3^16 mod 53 = 15\n",
      "\t17: 3^17 mod 53 = 45\n",
      "\t18: 3^18 mod 53 = 29\n",
      "\t19: 3^19 mod 53 = 34\n",
      "\t20: 3^20 mod 53 = 49\n",
      "\t21: 3^21 mod 53 = 41\n",
      "\t22: 3^22 mod 53 = 17\n",
      "\t23: 3^23 mod 53 = 51\n",
      "\t24: 3^24 mod 53 = 47\n",
      "\t25: 3^25 mod 53 = 35\n",
      "\t26: 3^26 mod 53 = 52\n",
      "\t27: 3^27 mod 53 = 50\n",
      "\t28: 3^28 mod 53 = 44\n",
      "\t29: 3^29 mod 53 = 26\n",
      "\t30: 3^30 mod 53 = 25\n",
      "\t31: 3^31 mod 53 = 22\n",
      "\t32: 3^32 mod 53 = 13\n",
      "\t33: 3^33 mod 53 = 39\n",
      "\t34: 3^34 mod 53 = 11\n",
      "\t35: 3^35 mod 53 = 33\n",
      "\t36: 3^36 mod 53 = 46\n",
      "\t37: 3^37 mod 53 = 32\n",
      "\t38: 3^38 mod 53 = 43\n",
      "\t39: 3^39 mod 53 = 23\n",
      "\t40: 3^40 mod 53 = 16\n",
      "\t41: 3^41 mod 53 = 48\n",
      "\t42: 3^42 mod 53 = 38\n",
      "\t43: 3^43 mod 53 = 8\n",
      "\t44: 3^44 mod 53 = 24\n",
      "\t45: 3^45 mod 53 = 19\n",
      "\t46: 3^46 mod 53 = 4\n",
      "\t47: 3^47 mod 53 = 12\n",
      "\t48: 3^48 mod 53 = 36\n",
      "\t49: 3^49 mod 53 = 2\n",
      "\t50: 3^50 mod 53 = 6\n",
      "\t51: 3^51 mod 53 = 18\n",
      "\t52: 3^52 mod 53 = 1\n",
      "\n",
      "\t=> 3 est un générateur car toutes les valeurs de 1 à 52 sont atteintes.\n"
     ]
    }
   ],
   "source": [
    "compute = BASIC_COMPUTE()\n",
    "r = compute.is_generator(53-1, 3)"
   ]
  },
  {
   "cell_type": "markdown",
   "metadata": {},
   "source": [
    "**2. On considère un chiffrement Elgamal avec comme clé publique (101, 7, 44). Calculer le chiffré du message 89 avec comme variable auxiliaire aléatoire 15.**"
   ]
  },
  {
   "cell_type": "code",
   "execution_count": 12,
   "metadata": {},
   "outputs": [
    {
     "name": "stdout",
     "output_type": "stream",
     "text": [
      "\n",
      "Modular Exponentiation: 3 ^ 15 mod 53\n",
      "\t1: (1 * 3) % 53 = 3\n",
      "\t2: (3 * 3) % 53 = 9\n",
      "\t3: (9 * 3) % 53 = 27\n",
      "\t4: (27 * 3) % 53 = 28\n",
      "\t5: (28 * 3) % 53 = 31\n",
      "\t6: (31 * 3) % 53 = 40\n",
      "\t7: (40 * 3) % 53 = 14\n",
      "\t8: (14 * 3) % 53 = 42\n",
      "\t9: (42 * 3) % 53 = 20\n",
      "\t10: (20 * 3) % 53 = 7\n",
      "\t11: (7 * 3) % 53 = 21\n",
      "\t12: (21 * 3) % 53 = 10\n",
      "\t13: (10 * 3) % 53 = 30\n",
      "\t14: (30 * 3) % 53 = 37\n",
      "\t15: (37 * 3) % 53 = 5\n",
      "\n",
      "\t=> 3 ^ 15 mod 53 = 5\n",
      "\n",
      "Modular Exponentiation: 30 ^ 15 mod 53\n",
      "\t1: (1 * 30) % 53 = 30\n",
      "\t2: (30 * 30) % 53 = 52\n",
      "\t3: (52 * 30) % 53 = 23\n",
      "\t4: (23 * 30) % 53 = 1\n",
      "\t5: (1 * 30) % 53 = 30\n",
      "\t6: (30 * 30) % 53 = 52\n",
      "\t7: (52 * 30) % 53 = 23\n",
      "\t8: (23 * 30) % 53 = 1\n",
      "\t9: (1 * 30) % 53 = 30\n",
      "\t10: (30 * 30) % 53 = 52\n",
      "\t11: (52 * 30) % 53 = 23\n",
      "\t12: (23 * 30) % 53 = 1\n",
      "\t13: (1 * 30) % 53 = 30\n",
      "\t14: (30 * 30) % 53 = 52\n",
      "\t15: (52 * 30) % 53 = 23\n",
      "\n",
      "\t=> 30 ^ 15 mod 53 = 23\n",
      "\n",
      "Chiffrement : c1 = 3^15 mod 53\n",
      "\t\t= 5\n",
      "Chiffrement : c2 = 40 * 30^15 mod 53\n",
      "\t\t= 19\n"
     ]
    }
   ],
   "source": [
    "my_elgamal = ELGAMAL(p=53, g=3, h=30)\n",
    "c1, c2 = my_elgamal.encrypt(m=40, k=15)"
   ]
  },
  {
   "cell_type": "markdown",
   "metadata": {},
   "source": [
    "**3. Vérifier que 35 est la clé privée correspondant à la clé publique ci-dessus.**"
   ]
  },
  {
   "cell_type": "code",
   "execution_count": 13,
   "metadata": {},
   "outputs": [
    {
     "name": "stdout",
     "output_type": "stream",
     "text": [
      "\n",
      "13 est la clé privée car 3^13 mod 53 = 30\n"
     ]
    }
   ],
   "source": [
    "_ = my_elgamal.verify_private_key(x=13)"
   ]
  },
  {
   "cell_type": "markdown",
   "metadata": {},
   "source": [
    "**4. Déchiffrer le texte chiffré obtenu à la question 2 et retrouver le texte clair**"
   ]
  },
  {
   "cell_type": "code",
   "execution_count": 14,
   "metadata": {},
   "outputs": [
    {
     "name": "stdout",
     "output_type": "stream",
     "text": [
      "\n",
      "Modular Exponentiation: 5 ^ 13 mod 53\n",
      "\t1: (1 * 5) % 53 = 5\n",
      "\t2: (5 * 5) % 53 = 25\n",
      "\t3: (25 * 5) % 53 = 19\n",
      "\t4: (19 * 5) % 53 = 42\n",
      "\t5: (42 * 5) % 53 = 51\n",
      "\t6: (51 * 5) % 53 = 43\n",
      "\t7: (43 * 5) % 53 = 3\n",
      "\t8: (3 * 5) % 53 = 15\n",
      "\t9: (15 * 5) % 53 = 22\n",
      "\t10: (22 * 5) % 53 = 4\n",
      "\t11: (4 * 5) % 53 = 20\n",
      "\t12: (20 * 5) % 53 = 47\n",
      "\t13: (47 * 5) % 53 = 23\n",
      "\n",
      "\t=> 5 ^ 13 mod 53 = 23\n",
      "\n",
      "Euclide étendu: a * 23 = 1 mod 53\n",
      "\n",
      "PGCD(23, 53):\n",
      "\t23 = 0 * 53 + 23\n",
      "\t53 = 2 * 23 + 7\n",
      "\t23 = 3 * 7 + 2\n",
      "\t7 = 3 * 2 + 1\n",
      "\t2 = 2 * 1 + 0\n",
      "\n",
      "\t=> PGCD = 1\n",
      "\n",
      "Remontée avec Euclide étendu:\n",
      "\tOn part de 1 = 7 - 3 * 2\n",
      "\t1 = -23 * 23 + 7 * 53\n",
      "\n",
      "=> 1 = -23 * 23 + 7 * 53 (mod 53) donc a = 30\n",
      "Déchiffrement de (5,19): m = 19 * 30 mod 53\n",
      "\t\t= 40\n"
     ]
    }
   ],
   "source": [
    "m = my_elgamal.decrypt(c1, c2)"
   ]
  },
  {
   "cell_type": "markdown",
   "metadata": {},
   "source": [
    "## **Exercice 5**\n",
    "\n",
    "On considère la courbe elliptique définie sur le corps F7 = Z/7Z par l’équation y^2 = x^3 + 5x + 5\n",
    "\n",
    "**1. Vérifier que les points P1 = (2, 3) et P2 = (5, 1) sont sur la courbe.**"
   ]
  },
  {
   "cell_type": "code",
   "execution_count": 20,
   "metadata": {},
   "outputs": [
    {
     "name": "stdout",
     "output_type": "stream",
     "text": [
      "\n",
      "Calcul des points de la courbe E : y^2 = x^3 + 5*x + 5 sur le corps fini GF(7):\n",
      "\n",
      "\tNous devons tester 49 combinaisons de points (x, y):\n",
      "\t\tVérification : (0,0) sur E ? 0^2 = 0^3 + 5*0 + 5 (mod 7)\n",
      "\t\t=> Faux, ce point n'appartient pas à la courbe\n",
      "\t\tVérification : (0,1) sur E ? 1^2 = 0^3 + 5*0 + 5 (mod 7)\n",
      "\t\t=> Faux, ce point n'appartient pas à la courbe\n",
      "\t\tVérification : (0,2) sur E ? 2^2 = 0^3 + 5*0 + 5 (mod 7)\n",
      "\t\t=> Faux, ce point n'appartient pas à la courbe\n",
      "\t\tVérification : (0,3) sur E ? 3^2 = 0^3 + 5*0 + 5 (mod 7)\n",
      "\t\t=> Faux, ce point n'appartient pas à la courbe\n",
      "\t\tVérification : (0,4) sur E ? 4^2 = 0^3 + 5*0 + 5 (mod 7)\n",
      "\t\t=> Faux, ce point n'appartient pas à la courbe\n",
      "\t\tVérification : (0,5) sur E ? 5^2 = 0^3 + 5*0 + 5 (mod 7)\n",
      "\t\t=> Faux, ce point n'appartient pas à la courbe\n",
      "\t\tVérification : (0,6) sur E ? 6^2 = 0^3 + 5*0 + 5 (mod 7)\n",
      "\t\t=> Faux, ce point n'appartient pas à la courbe\n",
      "\t\tVérification : (1,0) sur E ? 0^2 = 1^3 + 5*1 + 5 (mod 7)\n",
      "\t\t=> Faux, ce point n'appartient pas à la courbe\n",
      "\t\tVérification : (1,1) sur E ? 1^2 = 1^3 + 5*1 + 5 (mod 7)\n",
      "\t\t=> Faux, ce point n'appartient pas à la courbe\n",
      "\t\tVérification : (1,2) sur E ? 2^2 = 1^3 + 5*1 + 5 (mod 7)\n",
      "\t\t=> Vrai, ce point appartient à la courbe\n",
      "\t\tVérification : (1,3) sur E ? 3^2 = 1^3 + 5*1 + 5 (mod 7)\n",
      "\t\t=> Faux, ce point n'appartient pas à la courbe\n",
      "\t\tVérification : (1,4) sur E ? 4^2 = 1^3 + 5*1 + 5 (mod 7)\n",
      "\t\t=> Faux, ce point n'appartient pas à la courbe\n",
      "\t\tVérification : (1,5) sur E ? 5^2 = 1^3 + 5*1 + 5 (mod 7)\n",
      "\t\t=> Vrai, ce point appartient à la courbe\n",
      "\t\tVérification : (1,6) sur E ? 6^2 = 1^3 + 5*1 + 5 (mod 7)\n",
      "\t\t=> Faux, ce point n'appartient pas à la courbe\n",
      "\t\tVérification : (2,0) sur E ? 0^2 = 2^3 + 5*2 + 5 (mod 7)\n",
      "\t\t=> Faux, ce point n'appartient pas à la courbe\n",
      "\t\tVérification : (2,1) sur E ? 1^2 = 2^3 + 5*2 + 5 (mod 7)\n",
      "\t\t=> Faux, ce point n'appartient pas à la courbe\n",
      "\t\tVérification : (2,2) sur E ? 2^2 = 2^3 + 5*2 + 5 (mod 7)\n",
      "\t\t=> Faux, ce point n'appartient pas à la courbe\n",
      "\t\tVérification : (2,3) sur E ? 3^2 = 2^3 + 5*2 + 5 (mod 7)\n",
      "\t\t=> Vrai, ce point appartient à la courbe\n",
      "\t\tVérification : (2,4) sur E ? 4^2 = 2^3 + 5*2 + 5 (mod 7)\n",
      "\t\t=> Vrai, ce point appartient à la courbe\n",
      "\t\tVérification : (2,5) sur E ? 5^2 = 2^3 + 5*2 + 5 (mod 7)\n",
      "\t\t=> Faux, ce point n'appartient pas à la courbe\n",
      "\t\tVérification : (2,6) sur E ? 6^2 = 2^3 + 5*2 + 5 (mod 7)\n",
      "\t\t=> Faux, ce point n'appartient pas à la courbe\n",
      "\t\tVérification : (3,0) sur E ? 0^2 = 3^3 + 5*3 + 5 (mod 7)\n",
      "\t\t=> Faux, ce point n'appartient pas à la courbe\n",
      "\t\tVérification : (3,1) sur E ? 1^2 = 3^3 + 5*3 + 5 (mod 7)\n",
      "\t\t=> Faux, ce point n'appartient pas à la courbe\n",
      "\t\tVérification : (3,2) sur E ? 2^2 = 3^3 + 5*3 + 5 (mod 7)\n",
      "\t\t=> Faux, ce point n'appartient pas à la courbe\n",
      "\t\tVérification : (3,3) sur E ? 3^2 = 3^3 + 5*3 + 5 (mod 7)\n",
      "\t\t=> Faux, ce point n'appartient pas à la courbe\n",
      "\t\tVérification : (3,4) sur E ? 4^2 = 3^3 + 5*3 + 5 (mod 7)\n",
      "\t\t=> Faux, ce point n'appartient pas à la courbe\n",
      "\t\tVérification : (3,5) sur E ? 5^2 = 3^3 + 5*3 + 5 (mod 7)\n",
      "\t\t=> Faux, ce point n'appartient pas à la courbe\n",
      "\t\tVérification : (3,6) sur E ? 6^2 = 3^3 + 5*3 + 5 (mod 7)\n",
      "\t\t=> Faux, ce point n'appartient pas à la courbe\n",
      "\t\tVérification : (4,0) sur E ? 0^2 = 4^3 + 5*4 + 5 (mod 7)\n",
      "\t\t=> Faux, ce point n'appartient pas à la courbe\n",
      "\t\tVérification : (4,1) sur E ? 1^2 = 4^3 + 5*4 + 5 (mod 7)\n",
      "\t\t=> Faux, ce point n'appartient pas à la courbe\n",
      "\t\tVérification : (4,2) sur E ? 2^2 = 4^3 + 5*4 + 5 (mod 7)\n",
      "\t\t=> Faux, ce point n'appartient pas à la courbe\n",
      "\t\tVérification : (4,3) sur E ? 3^2 = 4^3 + 5*4 + 5 (mod 7)\n",
      "\t\t=> Faux, ce point n'appartient pas à la courbe\n",
      "\t\tVérification : (4,4) sur E ? 4^2 = 4^3 + 5*4 + 5 (mod 7)\n",
      "\t\t=> Faux, ce point n'appartient pas à la courbe\n",
      "\t\tVérification : (4,5) sur E ? 5^2 = 4^3 + 5*4 + 5 (mod 7)\n",
      "\t\t=> Faux, ce point n'appartient pas à la courbe\n",
      "\t\tVérification : (4,6) sur E ? 6^2 = 4^3 + 5*4 + 5 (mod 7)\n",
      "\t\t=> Faux, ce point n'appartient pas à la courbe\n",
      "\t\tVérification : (5,0) sur E ? 0^2 = 5^3 + 5*5 + 5 (mod 7)\n",
      "\t\t=> Faux, ce point n'appartient pas à la courbe\n",
      "\t\tVérification : (5,1) sur E ? 1^2 = 5^3 + 5*5 + 5 (mod 7)\n",
      "\t\t=> Vrai, ce point appartient à la courbe\n",
      "\t\tVérification : (5,2) sur E ? 2^2 = 5^3 + 5*5 + 5 (mod 7)\n",
      "\t\t=> Faux, ce point n'appartient pas à la courbe\n",
      "\t\tVérification : (5,3) sur E ? 3^2 = 5^3 + 5*5 + 5 (mod 7)\n",
      "\t\t=> Faux, ce point n'appartient pas à la courbe\n",
      "\t\tVérification : (5,4) sur E ? 4^2 = 5^3 + 5*5 + 5 (mod 7)\n",
      "\t\t=> Faux, ce point n'appartient pas à la courbe\n",
      "\t\tVérification : (5,5) sur E ? 5^2 = 5^3 + 5*5 + 5 (mod 7)\n",
      "\t\t=> Faux, ce point n'appartient pas à la courbe\n",
      "\t\tVérification : (5,6) sur E ? 6^2 = 5^3 + 5*5 + 5 (mod 7)\n",
      "\t\t=> Vrai, ce point appartient à la courbe\n",
      "\t\tVérification : (6,0) sur E ? 0^2 = 6^3 + 5*6 + 5 (mod 7)\n",
      "\t\t=> Faux, ce point n'appartient pas à la courbe\n",
      "\t\tVérification : (6,1) sur E ? 1^2 = 6^3 + 5*6 + 5 (mod 7)\n",
      "\t\t=> Faux, ce point n'appartient pas à la courbe\n",
      "\t\tVérification : (6,2) sur E ? 2^2 = 6^3 + 5*6 + 5 (mod 7)\n",
      "\t\t=> Faux, ce point n'appartient pas à la courbe\n",
      "\t\tVérification : (6,3) sur E ? 3^2 = 6^3 + 5*6 + 5 (mod 7)\n",
      "\t\t=> Faux, ce point n'appartient pas à la courbe\n",
      "\t\tVérification : (6,4) sur E ? 4^2 = 6^3 + 5*6 + 5 (mod 7)\n",
      "\t\t=> Faux, ce point n'appartient pas à la courbe\n",
      "\t\tVérification : (6,5) sur E ? 5^2 = 6^3 + 5*6 + 5 (mod 7)\n",
      "\t\t=> Faux, ce point n'appartient pas à la courbe\n",
      "\t\tVérification : (6,6) sur E ? 6^2 = 6^3 + 5*6 + 5 (mod 7)\n",
      "\t\t=> Faux, ce point n'appartient pas à la courbe\n",
      "\n",
      "\t=> Il y a 7 points sur la courbe (en comptant le point à l'infini)\n",
      "\t=> Points trouvés : [(1, 2), (1, 5), (2, 3), (2, 4), (5, 1), (5, 6)]\n",
      "\n"
     ]
    }
   ],
   "source": [
    "my_ecc = ECC(a=5, b=5, GF=7) # curve => y^2 = x^3 + a*x + b\n",
    "my_ecc.compute_points()"
   ]
  },
  {
   "cell_type": "markdown",
   "metadata": {},
   "source": [
    "**2. Calculer P3 = P1 + P2.**"
   ]
  },
  {
   "cell_type": "code",
   "execution_count": 21,
   "metadata": {},
   "outputs": [
    {
     "name": "stdout",
     "output_type": "stream",
     "text": [
      "\n",
      "Addition de deux points P(2, 3) et Q(5, 1):\n",
      "\n",
      "\tP + Q = (xr, yr)\n",
      "\t\t# xr = [λ^2 - xP - xQ] mod GF\n",
      "\t\t# yr = [λ * (xP - xr) - yp] mod GF\n",
      "\t\t# λ =  [(yQ - yP) / (xQ - xP)] mod GF\n",
      "\n",
      "\t=> λ = [(1 - 3) / (5 - 2)] mod 7 = 4\n",
      "\t=> xr = [(4^2 - 2 - 5)] mod 7 = 2\n",
      "\t=> yr = [4 * (2 - 2) - 3] mod 7 = 4\n",
      "\n",
      "=> P + Q = (2, 4)\n"
     ]
    }
   ],
   "source": [
    "_ = my_ecc.add_two_point(P=(2, 3), Q=(5, 1))"
   ]
  },
  {
   "cell_type": "markdown",
   "metadata": {},
   "source": [
    "**3. Donner un encadrement du nombre de points de la courbe en utilisant la borne de Weil.**"
   ]
  },
  {
   "cell_type": "code",
   "execution_count": 17,
   "metadata": {},
   "outputs": [
    {
     "name": "stdout",
     "output_type": "stream",
     "text": [
      "\n",
      "Borne de Hasse-Weil : [GF + 1 - 2 * sqrt(GF), GF + 1 + 2 * sqrt(GF)]\n",
      "\t=> [11 + 1 - 2 * sqrt(11), 11 + 1 + 2 * sqrt(11)]\n",
      "\t=> [6, 18]\n"
     ]
    }
   ],
   "source": [
    "my_ecc.hasse_weil_borne()"
   ]
  },
  {
   "cell_type": "markdown",
   "metadata": {},
   "source": [
    "**4. Calculer la liste des carrés des éléments de F7.**"
   ]
  },
  {
   "cell_type": "code",
   "execution_count": 22,
   "metadata": {},
   "outputs": [
    {
     "name": "stdout",
     "output_type": "stream",
     "text": [
      "\n",
      "Liste des carrés dans le corps F_7:\n",
      "\t0^2 mod 7 = 0\n",
      "\t1^2 mod 7 = 1\n",
      "\t2^2 mod 7 = 4\n",
      "\t3^2 mod 7 = 2\n",
      "\t4^2 mod 7 = 2\n",
      "\t5^2 mod 7 = 4\n",
      "\t6^2 mod 7 = 1\n",
      "\n",
      "\t=> Carrés distincts dans F_7 = [0, 1, 2, 4]\n"
     ]
    }
   ],
   "source": [
    "compute = BASIC_COMPUTE()\n",
    "_ = compute.list_of_squares(7)"
   ]
  },
  {
   "cell_type": "markdown",
   "metadata": {},
   "source": [
    "**5. Générer la liste de point**"
   ]
  },
  {
   "cell_type": "code",
   "execution_count": 23,
   "metadata": {},
   "outputs": [
    {
     "name": "stdout",
     "output_type": "stream",
     "text": [
      "\n",
      "Addition de deux points P(2, 3) et Q(2, 3):\n",
      "\t=> Les points sont égaux, doublement requis\n",
      "\n",
      "Doublement du point P(2, 3):\n",
      "\n",
      "\t2 * P = (xr, yr)\n",
      "\t\t# xr = [λ^2 - 2 * xP] mod GF\n",
      "\t\t# yr = [λ * (xP - xr) - yp] mod GF\n",
      "\t\t# λ =  [(3 * xP^2 + a) / (2 * yP)] mod GF\n",
      "\n",
      "\t=> λ = [(3 * 2^2 + 5) / (2 * 3)] mod 7 = 4\n",
      "\t=> xr = [4^2 - 2 * 2] mod 7 = 5\n",
      "\t=> yr = [4 * (2 - 5) - 3] mod 7 = 6\n",
      "\n",
      "=> 2 * P = (5, 6)\n",
      "\n",
      "Addition de deux points P(5, 6) et Q(2, 3):\n",
      "\n",
      "\tP + Q = (xr, yr)\n",
      "\t\t# xr = [λ^2 - xP - xQ] mod GF\n",
      "\t\t# yr = [λ * (xP - xr) - yp] mod GF\n",
      "\t\t# λ =  [(yQ - yP) / (xQ - xP)] mod GF\n",
      "\n",
      "\t=> λ = [(3 - 6) / (2 - 5)] mod 7 = 1\n",
      "\t=> xr = [(1^2 - 5 - 2)] mod 7 = 1\n",
      "\t=> yr = [1 * (5 - 1) - 6] mod 7 = 5\n",
      "\n",
      "=> P + Q = (1, 5)\n",
      "\n",
      "Addition de deux points P(1, 5) et Q(2, 3):\n",
      "\n",
      "\tP + Q = (xr, yr)\n",
      "\t\t# xr = [λ^2 - xP - xQ] mod GF\n",
      "\t\t# yr = [λ * (xP - xr) - yp] mod GF\n",
      "\t\t# λ =  [(yQ - yP) / (xQ - xP)] mod GF\n",
      "\n",
      "\t=> λ = [(3 - 5) / (2 - 1)] mod 7 = 5\n",
      "\t=> xr = [(5^2 - 1 - 2)] mod 7 = 1\n",
      "\t=> yr = [5 * (1 - 1) - 5] mod 7 = 2\n",
      "\n",
      "=> P + Q = (1, 2)\n",
      "\n",
      "Addition de deux points P(1, 2) et Q(2, 3):\n",
      "\n",
      "\tP + Q = (xr, yr)\n",
      "\t\t# xr = [λ^2 - xP - xQ] mod GF\n",
      "\t\t# yr = [λ * (xP - xr) - yp] mod GF\n",
      "\t\t# λ =  [(yQ - yP) / (xQ - xP)] mod GF\n",
      "\n",
      "\t=> λ = [(3 - 2) / (2 - 1)] mod 7 = 1\n",
      "\t=> xr = [(1^2 - 1 - 2)] mod 7 = 5\n",
      "\t=> yr = [1 * (1 - 5) - 2] mod 7 = 1\n",
      "\n",
      "=> P + Q = (5, 1)\n",
      "\n",
      "Addition de deux points P(5, 1) et Q(2, 3):\n",
      "\n",
      "\tP + Q = (xr, yr)\n",
      "\t\t# xr = [λ^2 - xP - xQ] mod GF\n",
      "\t\t# yr = [λ * (xP - xr) - yp] mod GF\n",
      "\t\t# λ =  [(yQ - yP) / (xQ - xP)] mod GF\n",
      "\n",
      "\t=> λ = [(3 - 1) / (2 - 5)] mod 7 = 4\n",
      "\t=> xr = [(4^2 - 5 - 2)] mod 7 = 2\n",
      "\t=> yr = [4 * (5 - 2) - 1] mod 7 = 4\n",
      "\n",
      "=> P + Q = (2, 4)\n",
      "\n",
      "Addition de deux points P(2, 4) et Q(2, 3):\n",
      "\t=> Les points sont alignés verticalement, résultat = point à l'infini\n"
     ]
    },
    {
     "data": {
      "text/plain": [
       "[(2, 3), (5, 6), (1, 5), (1, 2), (5, 1), (2, 4)]"
      ]
     },
     "execution_count": 23,
     "metadata": {},
     "output_type": "execute_result"
    }
   ],
   "source": [
    "my_ecc.generate_curve_points(P=(2,3))"
   ]
  },
  {
   "cell_type": "markdown",
   "metadata": {},
   "source": [
    "**6. à 8.**  \n",
    "Sur papier  \n",
    "\n",
    "**9. Le vérifier en calculant G, [2]G, [3]G, . . . , (on s’arrête où ?).**"
   ]
  },
  {
   "cell_type": "code",
   "execution_count": 24,
   "metadata": {},
   "outputs": [
    {
     "name": "stdout",
     "output_type": "stream",
     "text": [
      "\n",
      "Addition de deux points P(1, 2) et Q(1, 2):\n",
      "\t=> Les points sont égaux, doublement requis\n",
      "\n",
      "Doublement du point P(1, 2):\n",
      "\n",
      "\t2 * P = (xr, yr)\n",
      "\t\t# xr = [λ^2 - 2 * xP] mod GF\n",
      "\t\t# yr = [λ * (xP - xr) - yp] mod GF\n",
      "\t\t# λ =  [(3 * xP^2 + a) / (2 * yP)] mod GF\n",
      "\n",
      "\t=> λ = [(3 * 1^2 + 5) / (2 * 2)] mod 7 = 2\n",
      "\t=> xr = [2^2 - 2 * 1] mod 7 = 2\n",
      "\t=> yr = [2 * (1 - 2) - 2] mod 7 = 3\n",
      "\n",
      "=> 2 * P = (2, 3)\n",
      "\n",
      "Addition de deux points P(2, 3) et Q(1, 2):\n",
      "\n",
      "\tP + Q = (xr, yr)\n",
      "\t\t# xr = [λ^2 - xP - xQ] mod GF\n",
      "\t\t# yr = [λ * (xP - xr) - yp] mod GF\n",
      "\t\t# λ =  [(yQ - yP) / (xQ - xP)] mod GF\n",
      "\n",
      "\t=> λ = [(2 - 3) / (1 - 2)] mod 7 = 1\n",
      "\t=> xr = [(1^2 - 2 - 1)] mod 7 = 5\n",
      "\t=> yr = [1 * (2 - 5) - 3] mod 7 = 1\n",
      "\n",
      "=> P + Q = (5, 1)\n",
      "\n",
      "Addition de deux points P(5, 1) et Q(1, 2):\n",
      "\n",
      "\tP + Q = (xr, yr)\n",
      "\t\t# xr = [λ^2 - xP - xQ] mod GF\n",
      "\t\t# yr = [λ * (xP - xr) - yp] mod GF\n",
      "\t\t# λ =  [(yQ - yP) / (xQ - xP)] mod GF\n",
      "\n",
      "\t=> λ = [(2 - 1) / (1 - 5)] mod 7 = 5\n",
      "\t=> xr = [(5^2 - 5 - 1)] mod 7 = 5\n",
      "\t=> yr = [5 * (5 - 5) - 1] mod 7 = 6\n",
      "\n",
      "=> P + Q = (5, 6)\n",
      "\n",
      "Addition de deux points P(5, 6) et Q(1, 2):\n",
      "\n",
      "\tP + Q = (xr, yr)\n",
      "\t\t# xr = [λ^2 - xP - xQ] mod GF\n",
      "\t\t# yr = [λ * (xP - xr) - yp] mod GF\n",
      "\t\t# λ =  [(yQ - yP) / (xQ - xP)] mod GF\n",
      "\n",
      "\t=> λ = [(2 - 6) / (1 - 5)] mod 7 = 1\n",
      "\t=> xr = [(1^2 - 5 - 1)] mod 7 = 2\n",
      "\t=> yr = [1 * (5 - 2) - 6] mod 7 = 4\n",
      "\n",
      "=> P + Q = (2, 4)\n",
      "\n",
      "Addition de deux points P(2, 4) et Q(1, 2):\n",
      "\n",
      "\tP + Q = (xr, yr)\n",
      "\t\t# xr = [λ^2 - xP - xQ] mod GF\n",
      "\t\t# yr = [λ * (xP - xr) - yp] mod GF\n",
      "\t\t# λ =  [(yQ - yP) / (xQ - xP)] mod GF\n",
      "\n",
      "\t=> λ = [(2 - 4) / (1 - 2)] mod 7 = 2\n",
      "\t=> xr = [(2^2 - 2 - 1)] mod 7 = 1\n",
      "\t=> yr = [2 * (2 - 1) - 4] mod 7 = 5\n",
      "\n",
      "=> P + Q = (1, 5)\n",
      "\n",
      "Addition de deux points P(1, 5) et Q(1, 2):\n",
      "\t=> Les points sont alignés verticalement, résultat = point à l'infini\n"
     ]
    },
    {
     "data": {
      "text/plain": [
       "[(1, 2), (2, 3), (5, 1), (5, 6), (2, 4), (1, 5)]"
      ]
     },
     "execution_count": 24,
     "metadata": {},
     "output_type": "execute_result"
    }
   ],
   "source": [
    "my_ecc.generate_curve_points(P=(1, 2))"
   ]
  }
 ],
 "metadata": {
  "kernelspec": {
   "display_name": "Python 3",
   "language": "python",
   "name": "python3"
  },
  "language_info": {
   "codemirror_mode": {
    "name": "ipython",
    "version": 3
   },
   "file_extension": ".py",
   "mimetype": "text/x-python",
   "name": "python",
   "nbconvert_exporter": "python",
   "pygments_lexer": "ipython3",
   "version": "3.12.6"
  }
 },
 "nbformat": 4,
 "nbformat_minor": 2
}
